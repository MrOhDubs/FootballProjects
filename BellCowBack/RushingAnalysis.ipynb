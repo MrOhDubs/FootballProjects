{
 "cells": [
  {
   "cell_type": "code",
   "execution_count": 33,
   "metadata": {},
   "outputs": [],
   "source": [
    "library(rvest)\n",
    "library(tidyverse)\n",
    "library(ggrepel)"
   ]
  },
  {
   "cell_type": "markdown",
   "metadata": {},
   "source": [
    "# Gathering Player data"
   ]
  },
  {
   "cell_type": "code",
   "execution_count": 3,
   "metadata": {},
   "outputs": [
    {
     "data": {
      "text/html": [
       "<table>\n",
       "<thead><tr><th scope=col>Rk</th><th scope=col>Player</th><th scope=col>Tm</th><th scope=col>Age</th><th scope=col>Pos</th><th scope=col>G</th><th scope=col>GS</th><th scope=col>Att</th><th scope=col>Yds</th><th scope=col>TD</th><th scope=col>Lng</th><th scope=col>Y.A</th><th scope=col>Y.G</th><th scope=col>Fmb</th><th scope=col>year</th></tr></thead>\n",
       "<tbody>\n",
       "\t<tr><td>1             </td><td>DeMarco Murray</td><td>DAL           </td><td>26            </td><td>RB            </td><td>16            </td><td>16            </td><td>392           </td><td>1845          </td><td>13            </td><td>51            </td><td>4.7           </td><td>115.3         </td><td>6             </td><td>2014          </td></tr>\n",
       "\t<tr><td>2             </td><td>LeSean McCoy  </td><td>PHI           </td><td>26            </td><td>RB            </td><td>16            </td><td>16            </td><td>312           </td><td>1319          </td><td> 5            </td><td>53            </td><td>4.2           </td><td> 82.4         </td><td>4             </td><td>2014          </td></tr>\n",
       "\t<tr><td>3             </td><td>Le'Veon Bell  </td><td>PIT           </td><td>22            </td><td>RB            </td><td>16            </td><td>16            </td><td>290           </td><td>1361          </td><td> 8            </td><td>81            </td><td>4.7           </td><td> 85.1         </td><td>0             </td><td>2014          </td></tr>\n",
       "\t<tr><td>4             </td><td>Marshawn Lynch</td><td>SEA           </td><td>28            </td><td>RB            </td><td>16            </td><td>14            </td><td>280           </td><td>1306          </td><td>13            </td><td>79            </td><td>4.7           </td><td> 81.6         </td><td>4             </td><td>2014          </td></tr>\n",
       "\t<tr><td>5             </td><td>Matt Forte    </td><td>CHI           </td><td>29            </td><td>RB            </td><td>16            </td><td>16            </td><td>266           </td><td>1038          </td><td> 6            </td><td>32            </td><td>3.9           </td><td> 64.9         </td><td>2             </td><td>2014          </td></tr>\n",
       "\t<tr><td>6             </td><td>Alfred Morris </td><td>WAS           </td><td>26            </td><td>RB            </td><td>16            </td><td>16            </td><td>265           </td><td>1074          </td><td> 8            </td><td>30            </td><td>4.1           </td><td> 67.1         </td><td>2             </td><td>2014          </td></tr>\n",
       "</tbody>\n",
       "</table>\n"
      ],
      "text/latex": [
       "\\begin{tabular}{r|lllllllllllllll}\n",
       " Rk & Player & Tm & Age & Pos & G & GS & Att & Yds & TD & Lng & Y.A & Y.G & Fmb & year\\\\\n",
       "\\hline\n",
       "\t 1              & DeMarco Murray & DAL            & 26             & RB             & 16             & 16             & 392            & 1845           & 13             & 51             & 4.7            & 115.3          & 6              & 2014          \\\\\n",
       "\t 2              & LeSean McCoy   & PHI            & 26             & RB             & 16             & 16             & 312            & 1319           &  5             & 53             & 4.2            &  82.4          & 4              & 2014          \\\\\n",
       "\t 3              & Le'Veon Bell   & PIT            & 22             & RB             & 16             & 16             & 290            & 1361           &  8             & 81             & 4.7            &  85.1          & 0              & 2014          \\\\\n",
       "\t 4              & Marshawn Lynch & SEA            & 28             & RB             & 16             & 14             & 280            & 1306           & 13             & 79             & 4.7            &  81.6          & 4              & 2014          \\\\\n",
       "\t 5              & Matt Forte     & CHI            & 29             & RB             & 16             & 16             & 266            & 1038           &  6             & 32             & 3.9            &  64.9          & 2              & 2014          \\\\\n",
       "\t 6              & Alfred Morris  & WAS            & 26             & RB             & 16             & 16             & 265            & 1074           &  8             & 30             & 4.1            &  67.1          & 2              & 2014          \\\\\n",
       "\\end{tabular}\n"
      ],
      "text/markdown": [
       "\n",
       "Rk | Player | Tm | Age | Pos | G | GS | Att | Yds | TD | Lng | Y.A | Y.G | Fmb | year | \n",
       "|---|---|---|---|---|---|\n",
       "| 1              | DeMarco Murray | DAL            | 26             | RB             | 16             | 16             | 392            | 1845           | 13             | 51             | 4.7            | 115.3          | 6              | 2014           | \n",
       "| 2              | LeSean McCoy   | PHI            | 26             | RB             | 16             | 16             | 312            | 1319           |  5             | 53             | 4.2            |  82.4          | 4              | 2014           | \n",
       "| 3              | Le'Veon Bell   | PIT            | 22             | RB             | 16             | 16             | 290            | 1361           |  8             | 81             | 4.7            |  85.1          | 0              | 2014           | \n",
       "| 4              | Marshawn Lynch | SEA            | 28             | RB             | 16             | 14             | 280            | 1306           | 13             | 79             | 4.7            |  81.6          | 4              | 2014           | \n",
       "| 5              | Matt Forte     | CHI            | 29             | RB             | 16             | 16             | 266            | 1038           |  6             | 32             | 3.9            |  64.9          | 2              | 2014           | \n",
       "| 6              | Alfred Morris  | WAS            | 26             | RB             | 16             | 16             | 265            | 1074           |  8             | 30             | 4.1            |  67.1          | 2              | 2014           | \n",
       "\n",
       "\n"
      ],
      "text/plain": [
       "  Rk Player         Tm  Age Pos G  GS Att Yds  TD Lng Y.A Y.G   Fmb year\n",
       "1 1  DeMarco Murray DAL 26  RB  16 16 392 1845 13 51  4.7 115.3 6   2014\n",
       "2 2  LeSean McCoy   PHI 26  RB  16 16 312 1319  5 53  4.2  82.4 4   2014\n",
       "3 3  Le'Veon Bell   PIT 22  RB  16 16 290 1361  8 81  4.7  85.1 0   2014\n",
       "4 4  Marshawn Lynch SEA 28  RB  16 14 280 1306 13 79  4.7  81.6 4   2014\n",
       "5 5  Matt Forte     CHI 29  RB  16 16 266 1038  6 32  3.9  64.9 2   2014\n",
       "6 6  Alfred Morris  WAS 26  RB  16 16 265 1074  8 30  4.1  67.1 2   2014"
      ]
     },
     "metadata": {},
     "output_type": "display_data"
    }
   ],
   "source": [
    "rushing_player <- data.frame()\n",
    "\n",
    "for (i in 2014:2018){\n",
    "    url <- paste0('https://www.pro-football-reference.com/years/', i, '/rushing.htm')\n",
    "    page <- read_html(url)\n",
    "    rank_data <- html_nodes(page, '#rushing')\n",
    "    dat <- as.data.frame(html_table(rank_data))\n",
    "    colnames(dat) <- dat[1,]\n",
    "    dat <- dat[-1,]\n",
    "    dat %>% filter(Tm != 'Tm') -> dat\n",
    "    dat$year <- i\n",
    "    dat$Player <- gsub('\\\\*?\\\\+?', '', dat$Player)\n",
    "    \n",
    "    rushing_player <- rbind(rushing_player, dat)\n",
    "}\n",
    "\n",
    "write.csv(rushing_player, file = 'Data/rushing_player.csv', row.names = F)\n",
    "\n",
    "rushing_player <- read.csv(file  = 'Data/rushing_player.csv')\n",
    "head(rushing_player)"
   ]
  },
  {
   "cell_type": "markdown",
   "metadata": {},
   "source": [
    "Now we want to make sure we are only looking at the leading rushers for each team in a given year."
   ]
  },
  {
   "cell_type": "code",
   "execution_count": 4,
   "metadata": {},
   "outputs": [],
   "source": [
    "rushing_player %>%\n",
    "    group_by(Tm, year) %>%\n",
    "    top_n(n = 1, wt = as.numeric(Yds)) -> top_rushers"
   ]
  },
  {
   "cell_type": "code",
   "execution_count": 5,
   "metadata": {},
   "outputs": [
    {
     "data": {
      "text/plain": [
       "       Rk                       Player          Tm           Age       \n",
       " Min.   :  1.00   Frank Gore       :  5   2TM    :  5   Min.   :21.00  \n",
       " 1st Qu.:  9.00   Lamar Miller     :  5   ARI    :  5   1st Qu.:23.00  \n",
       " Median : 17.00   Carlos Hyde      :  4   ATL    :  5   Median :25.00  \n",
       " Mean   : 20.77   Isaiah Crowell   :  4   BAL    :  5   Mean   :25.45  \n",
       " 3rd Qu.: 27.00   LeGarrette Blount:  4   BUF    :  5   3rd Qu.:27.25  \n",
       " Max.   :165.00   LeSean McCoy     :  4   CAR    :  5   Max.   :35.00  \n",
       "                  (Other)          :142   (Other):138                  \n",
       "      Pos            G               GS             Att             Yds        \n",
       " RB     :132   Min.   : 7.00   Min.   : 0.00   Min.   : 10.0   Min.   :  19.0  \n",
       " rb     : 22   1st Qu.:13.00   1st Qu.: 8.00   1st Qu.:160.0   1st Qu.: 643.2  \n",
       "        :  8   Median :15.00   Median :12.00   Median :198.0   Median : 856.5  \n",
       " QB     :  3   Mean   :14.32   Mean   :11.36   Mean   :199.8   Mean   : 858.5  \n",
       " rb/wr  :  2   3rd Qu.:16.00   3rd Qu.:15.00   3rd Qu.:242.8   3rd Qu.:1046.2  \n",
       " fb/RB  :  1   Max.   :16.00   Max.   :16.00   Max.   :392.0   Max.   :1845.0  \n",
       " (Other):  0                                                                   \n",
       "       TD              Lng             Y.A             Y.G        \n",
       " Min.   : 0.000   Min.   : 6.00   Min.   :1.900   Min.   :  1.90  \n",
       " 1st Qu.: 3.000   1st Qu.:34.00   1st Qu.:3.800   1st Qu.: 46.90  \n",
       " Median : 6.000   Median :48.00   Median :4.200   Median : 59.15  \n",
       " Mean   : 6.024   Mean   :49.96   Mean   :4.273   Mean   : 59.73  \n",
       " 3rd Qu.: 8.000   3rd Qu.:66.00   3rd Qu.:4.700   3rd Qu.: 70.58  \n",
       " Max.   :18.000   Max.   :99.00   Max.   :7.100   Max.   :115.30  \n",
       "                                                                  \n",
       "      Fmb              year     \n",
       " Min.   : 0.000   Min.   :2014  \n",
       " 1st Qu.: 1.000   1st Qu.:2015  \n",
       " Median : 2.000   Median :2016  \n",
       " Mean   : 2.185   Mean   :2016  \n",
       " 3rd Qu.: 3.000   3rd Qu.:2017  \n",
       " Max.   :14.000   Max.   :2018  \n",
       "                                "
      ]
     },
     "metadata": {},
     "output_type": "display_data"
    }
   ],
   "source": [
    "summary(top_rushers)"
   ]
  },
  {
   "cell_type": "markdown",
   "metadata": {},
   "source": [
    "# Gathering Team data"
   ]
  },
  {
   "cell_type": "code",
   "execution_count": 6,
   "metadata": {},
   "outputs": [
    {
     "data": {
      "text/html": [
       "<table>\n",
       "<thead><tr><th scope=col>Rk</th><th scope=col>Tm</th><th scope=col>G</th><th scope=col>Att</th><th scope=col>Yds</th><th scope=col>TD</th><th scope=col>Lng</th><th scope=col>Y.A</th><th scope=col>Y.G</th><th scope=col>Fmb</th><th scope=col>EXP</th><th scope=col>year</th></tr></thead>\n",
       "<tbody>\n",
       "\t<tr><td>1                  </td><td>Seattle Seahawks   </td><td>16                 </td><td>525                </td><td>2762               </td><td>20                 </td><td>79                 </td><td>5.3                </td><td>172.6              </td><td>23                 </td><td> 65.66             </td><td>2014               </td></tr>\n",
       "\t<tr><td>2                  </td><td>Dallas Cowboys     </td><td>16                 </td><td>508                </td><td>2354               </td><td>16                 </td><td>65                 </td><td>4.6                </td><td>147.1              </td><td>21                 </td><td>-17.90             </td><td>2014               </td></tr>\n",
       "\t<tr><td>3                  </td><td>New York Jets      </td><td>16                 </td><td>507                </td><td>2280               </td><td>11                 </td><td>71                 </td><td>4.5                </td><td>142.5              </td><td>25                 </td><td>-19.76             </td><td>2014               </td></tr>\n",
       "\t<tr><td>4                  </td><td>San Francisco 49ers</td><td>16                 </td><td>470                </td><td>2176               </td><td>10                 </td><td>90                 </td><td>4.6                </td><td>136.0              </td><td>18                 </td><td>-32.96             </td><td>2014               </td></tr>\n",
       "\t<tr><td>5                  </td><td>Houston Texans     </td><td>16                 </td><td>551                </td><td>2161               </td><td>12                 </td><td>51                 </td><td>3.9                </td><td>135.1              </td><td>19                 </td><td>-44.90             </td><td>2014               </td></tr>\n",
       "\t<tr><td>6                  </td><td>Cincinnati Bengals </td><td>16                 </td><td>492                </td><td>2147               </td><td>19                 </td><td>89                 </td><td>4.4                </td><td>134.2              </td><td>20                 </td><td>  3.67             </td><td>2014               </td></tr>\n",
       "</tbody>\n",
       "</table>\n"
      ],
      "text/latex": [
       "\\begin{tabular}{r|llllllllllll}\n",
       " Rk & Tm & G & Att & Yds & TD & Lng & Y.A & Y.G & Fmb & EXP & year\\\\\n",
       "\\hline\n",
       "\t 1                   & Seattle Seahawks    & 16                  & 525                 & 2762                & 20                  & 79                  & 5.3                 & 172.6               & 23                  &  65.66              & 2014               \\\\\n",
       "\t 2                   & Dallas Cowboys      & 16                  & 508                 & 2354                & 16                  & 65                  & 4.6                 & 147.1               & 21                  & -17.90              & 2014               \\\\\n",
       "\t 3                   & New York Jets       & 16                  & 507                 & 2280                & 11                  & 71                  & 4.5                 & 142.5               & 25                  & -19.76              & 2014               \\\\\n",
       "\t 4                   & San Francisco 49ers & 16                  & 470                 & 2176                & 10                  & 90                  & 4.6                 & 136.0               & 18                  & -32.96              & 2014               \\\\\n",
       "\t 5                   & Houston Texans      & 16                  & 551                 & 2161                & 12                  & 51                  & 3.9                 & 135.1               & 19                  & -44.90              & 2014               \\\\\n",
       "\t 6                   & Cincinnati Bengals  & 16                  & 492                 & 2147                & 19                  & 89                  & 4.4                 & 134.2               & 20                  &   3.67              & 2014               \\\\\n",
       "\\end{tabular}\n"
      ],
      "text/markdown": [
       "\n",
       "Rk | Tm | G | Att | Yds | TD | Lng | Y.A | Y.G | Fmb | EXP | year | \n",
       "|---|---|---|---|---|---|\n",
       "| 1                   | Seattle Seahawks    | 16                  | 525                 | 2762                | 20                  | 79                  | 5.3                 | 172.6               | 23                  |  65.66              | 2014                | \n",
       "| 2                   | Dallas Cowboys      | 16                  | 508                 | 2354                | 16                  | 65                  | 4.6                 | 147.1               | 21                  | -17.90              | 2014                | \n",
       "| 3                   | New York Jets       | 16                  | 507                 | 2280                | 11                  | 71                  | 4.5                 | 142.5               | 25                  | -19.76              | 2014                | \n",
       "| 4                   | San Francisco 49ers | 16                  | 470                 | 2176                | 10                  | 90                  | 4.6                 | 136.0               | 18                  | -32.96              | 2014                | \n",
       "| 5                   | Houston Texans      | 16                  | 551                 | 2161                | 12                  | 51                  | 3.9                 | 135.1               | 19                  | -44.90              | 2014                | \n",
       "| 6                   | Cincinnati Bengals  | 16                  | 492                 | 2147                | 19                  | 89                  | 4.4                 | 134.2               | 20                  |   3.67              | 2014                | \n",
       "\n",
       "\n"
      ],
      "text/plain": [
       "  Rk Tm                  G  Att Yds  TD Lng Y.A Y.G   Fmb EXP    year\n",
       "1 1  Seattle Seahawks    16 525 2762 20 79  5.3 172.6 23   65.66 2014\n",
       "2 2  Dallas Cowboys      16 508 2354 16 65  4.6 147.1 21  -17.90 2014\n",
       "3 3  New York Jets       16 507 2280 11 71  4.5 142.5 25  -19.76 2014\n",
       "4 4  San Francisco 49ers 16 470 2176 10 90  4.6 136.0 18  -32.96 2014\n",
       "5 5  Houston Texans      16 551 2161 12 51  3.9 135.1 19  -44.90 2014\n",
       "6 6  Cincinnati Bengals  16 492 2147 19 89  4.4 134.2 20    3.67 2014"
      ]
     },
     "metadata": {},
     "output_type": "display_data"
    }
   ],
   "source": [
    "rushing_team <- data.frame()\n",
    "\n",
    "for (i in 2014:2018) {\n",
    "    url <- paste0('https://www.pro-football-reference.com/years/', i, '/')\n",
    "\n",
    "    url %>% read_html() %>%               # parse html\n",
    "    html_nodes('#all_rushing') %>%        # select node with comment\n",
    "    html_nodes(xpath = 'comment()') %>%   # select comments within node\n",
    "    html_text() %>%                       # return contents as text\n",
    "    read_html() %>%                       # parse text as html\n",
    "    html_node('table') %>%                # select table node\n",
    "    html_table() -> dat\n",
    "    dat <- dat[-seq(nrow(dat)-2,nrow(dat)),]\n",
    "    dat$year <- i\n",
    "    \n",
    "    rushing_team <- rbind(rushing_team, dat)\n",
    "  }  \n",
    "write.csv(rushing_team, file = 'Data/rushing_team.csv', row.names = F)\n",
    "rushing_team <- read.csv(file = 'Data/rushing_team.csv')\n",
    "head(rushing_team)"
   ]
  },
  {
   "cell_type": "markdown",
   "metadata": {},
   "source": [
    "# Pull in reference to move from team names to abbreviations"
   ]
  },
  {
   "cell_type": "code",
   "execution_count": 7,
   "metadata": {},
   "outputs": [
    {
     "data": {
      "text/html": [
       "<table>\n",
       "<thead><tr><th scope=col>Team</th><th scope=col>Tm</th><th scope=col>Conference</th><th scope=col>Division</th></tr></thead>\n",
       "<tbody>\n",
       "\t<tr><td>Arizona Cardinals</td><td>ARI              </td><td>NFC              </td><td>West             </td></tr>\n",
       "\t<tr><td>Atlanta Falcons  </td><td>ATL              </td><td>NFC              </td><td>South            </td></tr>\n",
       "\t<tr><td>Baltimore Ravens </td><td>BAL              </td><td>AFC              </td><td>North            </td></tr>\n",
       "\t<tr><td>Buffalo Bills    </td><td>BUF              </td><td>AFC              </td><td>East             </td></tr>\n",
       "\t<tr><td>Carolina Panthers</td><td>CAR              </td><td>NFC              </td><td>South            </td></tr>\n",
       "\t<tr><td>Chicago Bears    </td><td>CHI              </td><td>NFC              </td><td>North            </td></tr>\n",
       "</tbody>\n",
       "</table>\n"
      ],
      "text/latex": [
       "\\begin{tabular}{r|llll}\n",
       " Team & Tm & Conference & Division\\\\\n",
       "\\hline\n",
       "\t Arizona Cardinals & ARI               & NFC               & West             \\\\\n",
       "\t Atlanta Falcons   & ATL               & NFC               & South            \\\\\n",
       "\t Baltimore Ravens  & BAL               & AFC               & North            \\\\\n",
       "\t Buffalo Bills     & BUF               & AFC               & East             \\\\\n",
       "\t Carolina Panthers & CAR               & NFC               & South            \\\\\n",
       "\t Chicago Bears     & CHI               & NFC               & North            \\\\\n",
       "\\end{tabular}\n"
      ],
      "text/markdown": [
       "\n",
       "Team | Tm | Conference | Division | \n",
       "|---|---|---|---|---|---|\n",
       "| Arizona Cardinals | ARI               | NFC               | West              | \n",
       "| Atlanta Falcons   | ATL               | NFC               | South             | \n",
       "| Baltimore Ravens  | BAL               | AFC               | North             | \n",
       "| Buffalo Bills     | BUF               | AFC               | East              | \n",
       "| Carolina Panthers | CAR               | NFC               | South             | \n",
       "| Chicago Bears     | CHI               | NFC               | North             | \n",
       "\n",
       "\n"
      ],
      "text/plain": [
       "  Team              Tm  Conference Division\n",
       "1 Arizona Cardinals ARI NFC        West    \n",
       "2 Atlanta Falcons   ATL NFC        South   \n",
       "3 Baltimore Ravens  BAL AFC        North   \n",
       "4 Buffalo Bills     BUF AFC        East    \n",
       "5 Carolina Panthers CAR NFC        South   \n",
       "6 Chicago Bears     CHI NFC        North   "
      ]
     },
     "metadata": {},
     "output_type": "display_data"
    }
   ],
   "source": [
    "ref <- read.csv('C:\\\\Users\\\\osnwh2\\\\PyProjects\\\\TeamAbbrev.csv', stringsAsFactors = F)[,-1]\n",
    "colnames(ref) <- c('Team', 'Tm', 'Conference', 'Division')\n",
    "head(ref)"
   ]
  },
  {
   "cell_type": "code",
   "execution_count": 8,
   "metadata": {},
   "outputs": [],
   "source": [
    "ref[nrow(ref) + 1,] <- list('Los Angeles Rams', 'LAR', 'NFC', 'West')\n",
    "ref[nrow(ref) + 1,] <- list('Los Angeles Chargers', 'LAC', 'AFC', 'West')"
   ]
  },
  {
   "cell_type": "code",
   "execution_count": 9,
   "metadata": {},
   "outputs": [
    {
     "data": {
      "text/html": [
       "34"
      ],
      "text/latex": [
       "34"
      ],
      "text/markdown": [
       "34"
      ],
      "text/plain": [
       "[1] 34"
      ]
     },
     "metadata": {},
     "output_type": "display_data"
    }
   ],
   "source": [
    "nrow(ref)"
   ]
  },
  {
   "cell_type": "markdown",
   "metadata": {},
   "source": [
    "# Need team win data.  Also pull PF and PA"
   ]
  },
  {
   "cell_type": "code",
   "execution_count": 10,
   "metadata": {},
   "outputs": [
    {
     "data": {
      "text/html": [
       "<table>\n",
       "<thead><tr><th scope=col>Tm</th><th scope=col>W</th><th scope=col>L</th><th scope=col>PF</th><th scope=col>PA</th><th scope=col>year</th></tr></thead>\n",
       "<tbody>\n",
       "\t<tr><td>New England Patriots</td><td>12                  </td><td>4                   </td><td>468                 </td><td>313                 </td><td>2014                </td></tr>\n",
       "\t<tr><td>Buffalo Bills       </td><td>9                   </td><td>7                   </td><td>343                 </td><td>289                 </td><td>2014                </td></tr>\n",
       "\t<tr><td>Miami Dolphins      </td><td>8                   </td><td>8                   </td><td>388                 </td><td>373                 </td><td>2014                </td></tr>\n",
       "\t<tr><td>New York Jets       </td><td>4                   </td><td>12                  </td><td>283                 </td><td>401                 </td><td>2014                </td></tr>\n",
       "\t<tr><td>Pittsburgh Steelers </td><td>11                  </td><td>5                   </td><td>436                 </td><td>368                 </td><td>2014                </td></tr>\n",
       "\t<tr><td>Cincinnati Bengals  </td><td>10                  </td><td>5                   </td><td>365                 </td><td>344                 </td><td>2014                </td></tr>\n",
       "\t<tr><td>Baltimore Ravens    </td><td>10                  </td><td>6                   </td><td>409                 </td><td>302                 </td><td>2014                </td></tr>\n",
       "\t<tr><td>Cleveland Browns    </td><td>7                   </td><td>9                   </td><td>299                 </td><td>337                 </td><td>2014                </td></tr>\n",
       "\t<tr><td>Indianapolis Colts  </td><td>11                  </td><td>5                   </td><td>458                 </td><td>369                 </td><td>2014                </td></tr>\n",
       "\t<tr><td>Houston Texans      </td><td>9                   </td><td>7                   </td><td>372                 </td><td>307                 </td><td>2014                </td></tr>\n",
       "\t<tr><td>Jacksonville Jaguars</td><td>3                   </td><td>13                  </td><td>249                 </td><td>412                 </td><td>2014                </td></tr>\n",
       "\t<tr><td>Tennessee Titans    </td><td>2                   </td><td>14                  </td><td>254                 </td><td>438                 </td><td>2014                </td></tr>\n",
       "\t<tr><td>Denver Broncos      </td><td>12                  </td><td>4                   </td><td>482                 </td><td>354                 </td><td>2014                </td></tr>\n",
       "\t<tr><td>San Diego Chargers  </td><td>9                   </td><td>7                   </td><td>348                 </td><td>348                 </td><td>2014                </td></tr>\n",
       "\t<tr><td>Kansas City Chiefs  </td><td>9                   </td><td>7                   </td><td>353                 </td><td>281                 </td><td>2014                </td></tr>\n",
       "\t<tr><td>Oakland Raiders     </td><td>3                   </td><td>13                  </td><td>253                 </td><td>452                 </td><td>2014                </td></tr>\n",
       "\t<tr><td>New England Patriots</td><td>12                  </td><td>4                   </td><td>465                 </td><td>315                 </td><td>2015                </td></tr>\n",
       "\t<tr><td>New York Jets       </td><td>10                  </td><td>6                   </td><td>387                 </td><td>314                 </td><td>2015                </td></tr>\n",
       "\t<tr><td>Buffalo Bills       </td><td>8                   </td><td>8                   </td><td>379                 </td><td>359                 </td><td>2015                </td></tr>\n",
       "\t<tr><td>Miami Dolphins      </td><td>6                   </td><td>10                  </td><td>310                 </td><td>389                 </td><td>2015                </td></tr>\n",
       "\t<tr><td>Cincinnati Bengals  </td><td>12                  </td><td>4                   </td><td>419                 </td><td>279                 </td><td>2015                </td></tr>\n",
       "\t<tr><td>Pittsburgh Steelers </td><td>10                  </td><td>6                   </td><td>423                 </td><td>319                 </td><td>2015                </td></tr>\n",
       "\t<tr><td>Baltimore Ravens    </td><td>5                   </td><td>11                  </td><td>328                 </td><td>401                 </td><td>2015                </td></tr>\n",
       "\t<tr><td>Cleveland Browns    </td><td>3                   </td><td>13                  </td><td>278                 </td><td>432                 </td><td>2015                </td></tr>\n",
       "\t<tr><td>Houston Texans      </td><td>9                   </td><td>7                   </td><td>339                 </td><td>313                 </td><td>2015                </td></tr>\n",
       "\t<tr><td>Indianapolis Colts  </td><td>8                   </td><td>8                   </td><td>333                 </td><td>408                 </td><td>2015                </td></tr>\n",
       "\t<tr><td>Jacksonville Jaguars</td><td>5                   </td><td>11                  </td><td>376                 </td><td>448                 </td><td>2015                </td></tr>\n",
       "\t<tr><td>Tennessee Titans    </td><td>3                   </td><td>13                  </td><td>299                 </td><td>423                 </td><td>2015                </td></tr>\n",
       "\t<tr><td>Denver Broncos      </td><td>12                  </td><td>4                   </td><td>355                 </td><td>296                 </td><td>2015                </td></tr>\n",
       "\t<tr><td>Kansas City Chiefs  </td><td>11                  </td><td>5                   </td><td>405                 </td><td>287                 </td><td>2015                </td></tr>\n",
       "\t<tr><td>...</td><td>...</td><td>...</td><td>...</td><td>...</td><td>...</td></tr>\n",
       "\t<tr><td>Washington Redskins </td><td>7                   </td><td>9                   </td><td>342                 </td><td>388                 </td><td>2017                </td></tr>\n",
       "\t<tr><td>New York Giants     </td><td>3                   </td><td>13                  </td><td>246                 </td><td>388                 </td><td>2017                </td></tr>\n",
       "\t<tr><td>Minnesota Vikings   </td><td>13                  </td><td>3                   </td><td>382                 </td><td>252                 </td><td>2017                </td></tr>\n",
       "\t<tr><td>Detroit Lions       </td><td>9                   </td><td>7                   </td><td>410                 </td><td>376                 </td><td>2017                </td></tr>\n",
       "\t<tr><td>Green Bay Packers   </td><td>7                   </td><td>9                   </td><td>320                 </td><td>384                 </td><td>2017                </td></tr>\n",
       "\t<tr><td>Chicago Bears       </td><td>5                   </td><td>11                  </td><td>264                 </td><td>320                 </td><td>2017                </td></tr>\n",
       "\t<tr><td>New Orleans Saints  </td><td>11                  </td><td>5                   </td><td>448                 </td><td>326                 </td><td>2017                </td></tr>\n",
       "\t<tr><td>Carolina Panthers   </td><td>11                  </td><td>5                   </td><td>363                 </td><td>327                 </td><td>2017                </td></tr>\n",
       "\t<tr><td>Atlanta Falcons     </td><td>10                  </td><td>6                   </td><td>353                 </td><td>315                 </td><td>2017                </td></tr>\n",
       "\t<tr><td>Tampa Bay Buccaneers</td><td>5                   </td><td>11                  </td><td>335                 </td><td>382                 </td><td>2017                </td></tr>\n",
       "\t<tr><td>Los Angeles Rams    </td><td>11                  </td><td>5                   </td><td>478                 </td><td>329                 </td><td>2017                </td></tr>\n",
       "\t<tr><td>Seattle Seahawks    </td><td>9                   </td><td>7                   </td><td>366                 </td><td>332                 </td><td>2017                </td></tr>\n",
       "\t<tr><td>Arizona Cardinals   </td><td>8                   </td><td>8                   </td><td>295                 </td><td>361                 </td><td>2017                </td></tr>\n",
       "\t<tr><td>San Francisco 49ers </td><td>6                   </td><td>10                  </td><td>331                 </td><td>383                 </td><td>2017                </td></tr>\n",
       "\t<tr><td>Dallas Cowboys      </td><td>10                  </td><td>6                   </td><td>339                 </td><td>324                 </td><td>2018                </td></tr>\n",
       "\t<tr><td>Philadelphia Eagles </td><td>9                   </td><td>7                   </td><td>367                 </td><td>348                 </td><td>2018                </td></tr>\n",
       "\t<tr><td>Washington Redskins </td><td>7                   </td><td>9                   </td><td>281                 </td><td>359                 </td><td>2018                </td></tr>\n",
       "\t<tr><td>New York Giants     </td><td>5                   </td><td>11                  </td><td>369                 </td><td>412                 </td><td>2018                </td></tr>\n",
       "\t<tr><td>Chicago Bears       </td><td>12                  </td><td>4                   </td><td>421                 </td><td>283                 </td><td>2018                </td></tr>\n",
       "\t<tr><td>Minnesota Vikings   </td><td>8                   </td><td>7                   </td><td>360                 </td><td>341                 </td><td>2018                </td></tr>\n",
       "\t<tr><td>Green Bay Packers   </td><td>6                   </td><td>9                   </td><td>376                 </td><td>400                 </td><td>2018                </td></tr>\n",
       "\t<tr><td>Detroit Lions       </td><td>6                   </td><td>10                  </td><td>324                 </td><td>360                 </td><td>2018                </td></tr>\n",
       "\t<tr><td>New Orleans Saints  </td><td>13                  </td><td>3                   </td><td>504                 </td><td>353                 </td><td>2018                </td></tr>\n",
       "\t<tr><td>Carolina Panthers   </td><td>7                   </td><td>9                   </td><td>376                 </td><td>382                 </td><td>2018                </td></tr>\n",
       "\t<tr><td>Atlanta Falcons     </td><td>7                   </td><td>9                   </td><td>414                 </td><td>423                 </td><td>2018                </td></tr>\n",
       "\t<tr><td>Tampa Bay Buccaneers</td><td>5                   </td><td>11                  </td><td>396                 </td><td>464                 </td><td>2018                </td></tr>\n",
       "\t<tr><td>Los Angeles Rams    </td><td>13                  </td><td>3                   </td><td>527                 </td><td>384                 </td><td>2018                </td></tr>\n",
       "\t<tr><td>Seattle Seahawks    </td><td>10                  </td><td>6                   </td><td>428                 </td><td>347                 </td><td>2018                </td></tr>\n",
       "\t<tr><td>San Francisco 49ers </td><td>4                   </td><td>12                  </td><td>342                 </td><td>435                 </td><td>2018                </td></tr>\n",
       "\t<tr><td>Arizona Cardinals   </td><td>3                   </td><td>13                  </td><td>225                 </td><td>425                 </td><td>2018                </td></tr>\n",
       "</tbody>\n",
       "</table>\n"
      ],
      "text/latex": [
       "\\begin{tabular}{r|llllll}\n",
       " Tm & W & L & PF & PA & year\\\\\n",
       "\\hline\n",
       "\t New England Patriots & 12                   & 4                    & 468                  & 313                  & 2014                \\\\\n",
       "\t Buffalo Bills        & 9                    & 7                    & 343                  & 289                  & 2014                \\\\\n",
       "\t Miami Dolphins       & 8                    & 8                    & 388                  & 373                  & 2014                \\\\\n",
       "\t New York Jets        & 4                    & 12                   & 283                  & 401                  & 2014                \\\\\n",
       "\t Pittsburgh Steelers  & 11                   & 5                    & 436                  & 368                  & 2014                \\\\\n",
       "\t Cincinnati Bengals   & 10                   & 5                    & 365                  & 344                  & 2014                \\\\\n",
       "\t Baltimore Ravens     & 10                   & 6                    & 409                  & 302                  & 2014                \\\\\n",
       "\t Cleveland Browns     & 7                    & 9                    & 299                  & 337                  & 2014                \\\\\n",
       "\t Indianapolis Colts   & 11                   & 5                    & 458                  & 369                  & 2014                \\\\\n",
       "\t Houston Texans       & 9                    & 7                    & 372                  & 307                  & 2014                \\\\\n",
       "\t Jacksonville Jaguars & 3                    & 13                   & 249                  & 412                  & 2014                \\\\\n",
       "\t Tennessee Titans     & 2                    & 14                   & 254                  & 438                  & 2014                \\\\\n",
       "\t Denver Broncos       & 12                   & 4                    & 482                  & 354                  & 2014                \\\\\n",
       "\t San Diego Chargers   & 9                    & 7                    & 348                  & 348                  & 2014                \\\\\n",
       "\t Kansas City Chiefs   & 9                    & 7                    & 353                  & 281                  & 2014                \\\\\n",
       "\t Oakland Raiders      & 3                    & 13                   & 253                  & 452                  & 2014                \\\\\n",
       "\t New England Patriots & 12                   & 4                    & 465                  & 315                  & 2015                \\\\\n",
       "\t New York Jets        & 10                   & 6                    & 387                  & 314                  & 2015                \\\\\n",
       "\t Buffalo Bills        & 8                    & 8                    & 379                  & 359                  & 2015                \\\\\n",
       "\t Miami Dolphins       & 6                    & 10                   & 310                  & 389                  & 2015                \\\\\n",
       "\t Cincinnati Bengals   & 12                   & 4                    & 419                  & 279                  & 2015                \\\\\n",
       "\t Pittsburgh Steelers  & 10                   & 6                    & 423                  & 319                  & 2015                \\\\\n",
       "\t Baltimore Ravens     & 5                    & 11                   & 328                  & 401                  & 2015                \\\\\n",
       "\t Cleveland Browns     & 3                    & 13                   & 278                  & 432                  & 2015                \\\\\n",
       "\t Houston Texans       & 9                    & 7                    & 339                  & 313                  & 2015                \\\\\n",
       "\t Indianapolis Colts   & 8                    & 8                    & 333                  & 408                  & 2015                \\\\\n",
       "\t Jacksonville Jaguars & 5                    & 11                   & 376                  & 448                  & 2015                \\\\\n",
       "\t Tennessee Titans     & 3                    & 13                   & 299                  & 423                  & 2015                \\\\\n",
       "\t Denver Broncos       & 12                   & 4                    & 355                  & 296                  & 2015                \\\\\n",
       "\t Kansas City Chiefs   & 11                   & 5                    & 405                  & 287                  & 2015                \\\\\n",
       "\t ... & ... & ... & ... & ... & ...\\\\\n",
       "\t Washington Redskins  & 7                    & 9                    & 342                  & 388                  & 2017                \\\\\n",
       "\t New York Giants      & 3                    & 13                   & 246                  & 388                  & 2017                \\\\\n",
       "\t Minnesota Vikings    & 13                   & 3                    & 382                  & 252                  & 2017                \\\\\n",
       "\t Detroit Lions        & 9                    & 7                    & 410                  & 376                  & 2017                \\\\\n",
       "\t Green Bay Packers    & 7                    & 9                    & 320                  & 384                  & 2017                \\\\\n",
       "\t Chicago Bears        & 5                    & 11                   & 264                  & 320                  & 2017                \\\\\n",
       "\t New Orleans Saints   & 11                   & 5                    & 448                  & 326                  & 2017                \\\\\n",
       "\t Carolina Panthers    & 11                   & 5                    & 363                  & 327                  & 2017                \\\\\n",
       "\t Atlanta Falcons      & 10                   & 6                    & 353                  & 315                  & 2017                \\\\\n",
       "\t Tampa Bay Buccaneers & 5                    & 11                   & 335                  & 382                  & 2017                \\\\\n",
       "\t Los Angeles Rams     & 11                   & 5                    & 478                  & 329                  & 2017                \\\\\n",
       "\t Seattle Seahawks     & 9                    & 7                    & 366                  & 332                  & 2017                \\\\\n",
       "\t Arizona Cardinals    & 8                    & 8                    & 295                  & 361                  & 2017                \\\\\n",
       "\t San Francisco 49ers  & 6                    & 10                   & 331                  & 383                  & 2017                \\\\\n",
       "\t Dallas Cowboys       & 10                   & 6                    & 339                  & 324                  & 2018                \\\\\n",
       "\t Philadelphia Eagles  & 9                    & 7                    & 367                  & 348                  & 2018                \\\\\n",
       "\t Washington Redskins  & 7                    & 9                    & 281                  & 359                  & 2018                \\\\\n",
       "\t New York Giants      & 5                    & 11                   & 369                  & 412                  & 2018                \\\\\n",
       "\t Chicago Bears        & 12                   & 4                    & 421                  & 283                  & 2018                \\\\\n",
       "\t Minnesota Vikings    & 8                    & 7                    & 360                  & 341                  & 2018                \\\\\n",
       "\t Green Bay Packers    & 6                    & 9                    & 376                  & 400                  & 2018                \\\\\n",
       "\t Detroit Lions        & 6                    & 10                   & 324                  & 360                  & 2018                \\\\\n",
       "\t New Orleans Saints   & 13                   & 3                    & 504                  & 353                  & 2018                \\\\\n",
       "\t Carolina Panthers    & 7                    & 9                    & 376                  & 382                  & 2018                \\\\\n",
       "\t Atlanta Falcons      & 7                    & 9                    & 414                  & 423                  & 2018                \\\\\n",
       "\t Tampa Bay Buccaneers & 5                    & 11                   & 396                  & 464                  & 2018                \\\\\n",
       "\t Los Angeles Rams     & 13                   & 3                    & 527                  & 384                  & 2018                \\\\\n",
       "\t Seattle Seahawks     & 10                   & 6                    & 428                  & 347                  & 2018                \\\\\n",
       "\t San Francisco 49ers  & 4                    & 12                   & 342                  & 435                  & 2018                \\\\\n",
       "\t Arizona Cardinals    & 3                    & 13                   & 225                  & 425                  & 2018                \\\\\n",
       "\\end{tabular}\n"
      ],
      "text/markdown": [
       "\n",
       "Tm | W | L | PF | PA | year | \n",
       "|---|---|---|---|---|---|---|---|---|---|---|---|---|---|---|---|---|---|---|---|---|---|---|---|---|---|---|---|---|---|---|---|---|---|---|---|---|---|---|---|---|---|---|---|---|---|---|---|---|---|---|---|---|---|---|---|---|---|---|---|---|\n",
       "| New England Patriots | 12                   | 4                    | 468                  | 313                  | 2014                 | \n",
       "| Buffalo Bills        | 9                    | 7                    | 343                  | 289                  | 2014                 | \n",
       "| Miami Dolphins       | 8                    | 8                    | 388                  | 373                  | 2014                 | \n",
       "| New York Jets        | 4                    | 12                   | 283                  | 401                  | 2014                 | \n",
       "| Pittsburgh Steelers  | 11                   | 5                    | 436                  | 368                  | 2014                 | \n",
       "| Cincinnati Bengals   | 10                   | 5                    | 365                  | 344                  | 2014                 | \n",
       "| Baltimore Ravens     | 10                   | 6                    | 409                  | 302                  | 2014                 | \n",
       "| Cleveland Browns     | 7                    | 9                    | 299                  | 337                  | 2014                 | \n",
       "| Indianapolis Colts   | 11                   | 5                    | 458                  | 369                  | 2014                 | \n",
       "| Houston Texans       | 9                    | 7                    | 372                  | 307                  | 2014                 | \n",
       "| Jacksonville Jaguars | 3                    | 13                   | 249                  | 412                  | 2014                 | \n",
       "| Tennessee Titans     | 2                    | 14                   | 254                  | 438                  | 2014                 | \n",
       "| Denver Broncos       | 12                   | 4                    | 482                  | 354                  | 2014                 | \n",
       "| San Diego Chargers   | 9                    | 7                    | 348                  | 348                  | 2014                 | \n",
       "| Kansas City Chiefs   | 9                    | 7                    | 353                  | 281                  | 2014                 | \n",
       "| Oakland Raiders      | 3                    | 13                   | 253                  | 452                  | 2014                 | \n",
       "| New England Patriots | 12                   | 4                    | 465                  | 315                  | 2015                 | \n",
       "| New York Jets        | 10                   | 6                    | 387                  | 314                  | 2015                 | \n",
       "| Buffalo Bills        | 8                    | 8                    | 379                  | 359                  | 2015                 | \n",
       "| Miami Dolphins       | 6                    | 10                   | 310                  | 389                  | 2015                 | \n",
       "| Cincinnati Bengals   | 12                   | 4                    | 419                  | 279                  | 2015                 | \n",
       "| Pittsburgh Steelers  | 10                   | 6                    | 423                  | 319                  | 2015                 | \n",
       "| Baltimore Ravens     | 5                    | 11                   | 328                  | 401                  | 2015                 | \n",
       "| Cleveland Browns     | 3                    | 13                   | 278                  | 432                  | 2015                 | \n",
       "| Houston Texans       | 9                    | 7                    | 339                  | 313                  | 2015                 | \n",
       "| Indianapolis Colts   | 8                    | 8                    | 333                  | 408                  | 2015                 | \n",
       "| Jacksonville Jaguars | 5                    | 11                   | 376                  | 448                  | 2015                 | \n",
       "| Tennessee Titans     | 3                    | 13                   | 299                  | 423                  | 2015                 | \n",
       "| Denver Broncos       | 12                   | 4                    | 355                  | 296                  | 2015                 | \n",
       "| Kansas City Chiefs   | 11                   | 5                    | 405                  | 287                  | 2015                 | \n",
       "| ... | ... | ... | ... | ... | ... | \n",
       "| Washington Redskins  | 7                    | 9                    | 342                  | 388                  | 2017                 | \n",
       "| New York Giants      | 3                    | 13                   | 246                  | 388                  | 2017                 | \n",
       "| Minnesota Vikings    | 13                   | 3                    | 382                  | 252                  | 2017                 | \n",
       "| Detroit Lions        | 9                    | 7                    | 410                  | 376                  | 2017                 | \n",
       "| Green Bay Packers    | 7                    | 9                    | 320                  | 384                  | 2017                 | \n",
       "| Chicago Bears        | 5                    | 11                   | 264                  | 320                  | 2017                 | \n",
       "| New Orleans Saints   | 11                   | 5                    | 448                  | 326                  | 2017                 | \n",
       "| Carolina Panthers    | 11                   | 5                    | 363                  | 327                  | 2017                 | \n",
       "| Atlanta Falcons      | 10                   | 6                    | 353                  | 315                  | 2017                 | \n",
       "| Tampa Bay Buccaneers | 5                    | 11                   | 335                  | 382                  | 2017                 | \n",
       "| Los Angeles Rams     | 11                   | 5                    | 478                  | 329                  | 2017                 | \n",
       "| Seattle Seahawks     | 9                    | 7                    | 366                  | 332                  | 2017                 | \n",
       "| Arizona Cardinals    | 8                    | 8                    | 295                  | 361                  | 2017                 | \n",
       "| San Francisco 49ers  | 6                    | 10                   | 331                  | 383                  | 2017                 | \n",
       "| Dallas Cowboys       | 10                   | 6                    | 339                  | 324                  | 2018                 | \n",
       "| Philadelphia Eagles  | 9                    | 7                    | 367                  | 348                  | 2018                 | \n",
       "| Washington Redskins  | 7                    | 9                    | 281                  | 359                  | 2018                 | \n",
       "| New York Giants      | 5                    | 11                   | 369                  | 412                  | 2018                 | \n",
       "| Chicago Bears        | 12                   | 4                    | 421                  | 283                  | 2018                 | \n",
       "| Minnesota Vikings    | 8                    | 7                    | 360                  | 341                  | 2018                 | \n",
       "| Green Bay Packers    | 6                    | 9                    | 376                  | 400                  | 2018                 | \n",
       "| Detroit Lions        | 6                    | 10                   | 324                  | 360                  | 2018                 | \n",
       "| New Orleans Saints   | 13                   | 3                    | 504                  | 353                  | 2018                 | \n",
       "| Carolina Panthers    | 7                    | 9                    | 376                  | 382                  | 2018                 | \n",
       "| Atlanta Falcons      | 7                    | 9                    | 414                  | 423                  | 2018                 | \n",
       "| Tampa Bay Buccaneers | 5                    | 11                   | 396                  | 464                  | 2018                 | \n",
       "| Los Angeles Rams     | 13                   | 3                    | 527                  | 384                  | 2018                 | \n",
       "| Seattle Seahawks     | 10                   | 6                    | 428                  | 347                  | 2018                 | \n",
       "| San Francisco 49ers  | 4                    | 12                   | 342                  | 435                  | 2018                 | \n",
       "| Arizona Cardinals    | 3                    | 13                   | 225                  | 425                  | 2018                 | \n",
       "\n",
       "\n"
      ],
      "text/plain": [
       "    Tm                   W   L   PF  PA  year\n",
       "1   New England Patriots 12  4   468 313 2014\n",
       "2   Buffalo Bills        9   7   343 289 2014\n",
       "3   Miami Dolphins       8   8   388 373 2014\n",
       "4   New York Jets        4   12  283 401 2014\n",
       "5   Pittsburgh Steelers  11  5   436 368 2014\n",
       "6   Cincinnati Bengals   10  5   365 344 2014\n",
       "7   Baltimore Ravens     10  6   409 302 2014\n",
       "8   Cleveland Browns     7   9   299 337 2014\n",
       "9   Indianapolis Colts   11  5   458 369 2014\n",
       "10  Houston Texans       9   7   372 307 2014\n",
       "11  Jacksonville Jaguars 3   13  249 412 2014\n",
       "12  Tennessee Titans     2   14  254 438 2014\n",
       "13  Denver Broncos       12  4   482 354 2014\n",
       "14  San Diego Chargers   9   7   348 348 2014\n",
       "15  Kansas City Chiefs   9   7   353 281 2014\n",
       "16  Oakland Raiders      3   13  253 452 2014\n",
       "17  New England Patriots 12  4   465 315 2015\n",
       "18  New York Jets        10  6   387 314 2015\n",
       "19  Buffalo Bills        8   8   379 359 2015\n",
       "20  Miami Dolphins       6   10  310 389 2015\n",
       "21  Cincinnati Bengals   12  4   419 279 2015\n",
       "22  Pittsburgh Steelers  10  6   423 319 2015\n",
       "23  Baltimore Ravens     5   11  328 401 2015\n",
       "24  Cleveland Browns     3   13  278 432 2015\n",
       "25  Houston Texans       9   7   339 313 2015\n",
       "26  Indianapolis Colts   8   8   333 408 2015\n",
       "27  Jacksonville Jaguars 5   11  376 448 2015\n",
       "28  Tennessee Titans     3   13  299 423 2015\n",
       "29  Denver Broncos       12  4   355 296 2015\n",
       "30  Kansas City Chiefs   11  5   405 287 2015\n",
       "... ...                  ... ... ... ... ... \n",
       "131 Washington Redskins  7   9   342 388 2017\n",
       "132 New York Giants      3   13  246 388 2017\n",
       "133 Minnesota Vikings    13  3   382 252 2017\n",
       "134 Detroit Lions        9   7   410 376 2017\n",
       "135 Green Bay Packers    7   9   320 384 2017\n",
       "136 Chicago Bears        5   11  264 320 2017\n",
       "137 New Orleans Saints   11  5   448 326 2017\n",
       "138 Carolina Panthers    11  5   363 327 2017\n",
       "139 Atlanta Falcons      10  6   353 315 2017\n",
       "140 Tampa Bay Buccaneers 5   11  335 382 2017\n",
       "141 Los Angeles Rams     11  5   478 329 2017\n",
       "142 Seattle Seahawks     9   7   366 332 2017\n",
       "143 Arizona Cardinals    8   8   295 361 2017\n",
       "144 San Francisco 49ers  6   10  331 383 2017\n",
       "145 Dallas Cowboys       10  6   339 324 2018\n",
       "146 Philadelphia Eagles  9   7   367 348 2018\n",
       "147 Washington Redskins  7   9   281 359 2018\n",
       "148 New York Giants      5   11  369 412 2018\n",
       "149 Chicago Bears        12  4   421 283 2018\n",
       "150 Minnesota Vikings    8   7   360 341 2018\n",
       "151 Green Bay Packers    6   9   376 400 2018\n",
       "152 Detroit Lions        6   10  324 360 2018\n",
       "153 New Orleans Saints   13  3   504 353 2018\n",
       "154 Carolina Panthers    7   9   376 382 2018\n",
       "155 Atlanta Falcons      7   9   414 423 2018\n",
       "156 Tampa Bay Buccaneers 5   11  396 464 2018\n",
       "157 Los Angeles Rams     13  3   527 384 2018\n",
       "158 Seattle Seahawks     10  6   428 347 2018\n",
       "159 San Francisco 49ers  4   12  342 435 2018\n",
       "160 Arizona Cardinals    3   13  225 425 2018"
      ]
     },
     "metadata": {},
     "output_type": "display_data"
    }
   ],
   "source": [
    "wins <- data.frame()\n",
    "for (conf in c('#AFC', '#NFC')){\n",
    "for (i in 2014:2018) {\n",
    "    url <- paste0('https://www.pro-football-reference.com/years/', i, '/')\n",
    "    \n",
    "    url %>% \n",
    "    read_html() %>%\n",
    "    html_nodes(conf) %>%\n",
    "    html_table() %>%\n",
    "    as.data.frame() %>%\n",
    "    filter(!str_detect(Tm, 'AFC|NFC')) %>%\n",
    "    select(Tm, W, L, PF, PA) -> dat\n",
    "    dat$year <- i\n",
    "    dat$Tm <- gsub('\\\\*?\\\\+?', '', dat$Tm)\n",
    "    wins <- rbind(wins, dat)\n",
    "}}\n",
    "wins\n",
    "write.csv(wins, 'Data/wins.csv', row.names = F)\n",
    "wins <- read.csv('Data/wins.csv')"
   ]
  },
  {
   "cell_type": "code",
   "execution_count": 11,
   "metadata": {},
   "outputs": [],
   "source": [
    "wins$masc <- gsub('^.*\\\\s', '',wins$Tm)\n",
    "rushing_team$masc <- gsub('^.*\\\\s', '',rushing_team$Tm)\n",
    "ref$masc <- gsub('^.*\\\\s', '', ref$Team)"
   ]
  },
  {
   "cell_type": "code",
   "execution_count": 12,
   "metadata": {},
   "outputs": [],
   "source": [
    "top_rushers$Tm <- case_when(\n",
    "    top_rushers$Tm == 'GNB' ~ 'GB',\n",
    "    top_rushers$Tm == 'KAN' ~ 'KC',\n",
    "    top_rushers$Tm == 'NWE' ~ 'NE',\n",
    "    top_rushers$Tm == 'NOR' ~ 'NO',\n",
    "    top_rushers$Tm == 'SDG' ~ 'SD',\n",
    "    top_rushers$Tm == 'SFO' ~ 'SF',\n",
    "    top_rushers$Tm == 'TAM' ~ 'TB',\n",
    "    TRUE ~ as.character(top_rushers$Tm))"
   ]
  },
  {
   "cell_type": "code",
   "execution_count": 13,
   "metadata": {},
   "outputs": [
    {
     "data": {
      "text/html": [
       "<table>\n",
       "<thead><tr><th scope=col>Team</th><th scope=col>Tm</th><th scope=col>Conference</th><th scope=col>Division</th><th scope=col>masc</th></tr></thead>\n",
       "<tbody>\n",
       "\t<tr><td>Arizona Cardinals   </td><td>ARI                 </td><td>NFC                 </td><td>West                </td><td>Cardinals           </td></tr>\n",
       "\t<tr><td>Atlanta Falcons     </td><td>ATL                 </td><td>NFC                 </td><td>South               </td><td>Falcons             </td></tr>\n",
       "\t<tr><td>Baltimore Ravens    </td><td>BAL                 </td><td>AFC                 </td><td>North               </td><td>Ravens              </td></tr>\n",
       "\t<tr><td>Buffalo Bills       </td><td>BUF                 </td><td>AFC                 </td><td>East                </td><td>Bills               </td></tr>\n",
       "\t<tr><td>Carolina Panthers   </td><td>CAR                 </td><td>NFC                 </td><td>South               </td><td>Panthers            </td></tr>\n",
       "\t<tr><td>Chicago Bears       </td><td>CHI                 </td><td>NFC                 </td><td>North               </td><td>Bears               </td></tr>\n",
       "\t<tr><td>Cincinnati Bengals  </td><td>CIN                 </td><td>AFC                 </td><td>North               </td><td>Bengals             </td></tr>\n",
       "\t<tr><td>Cleveland Browns    </td><td>CLE                 </td><td>AFC                 </td><td>North               </td><td>Browns              </td></tr>\n",
       "\t<tr><td>Dallas Cowboys      </td><td>DAL                 </td><td>NFC                 </td><td>East                </td><td>Cowboys             </td></tr>\n",
       "\t<tr><td>Denver Broncos      </td><td>DEN                 </td><td>AFC                 </td><td>West                </td><td>Broncos             </td></tr>\n",
       "\t<tr><td>Detroit Lions       </td><td>DET                 </td><td>NFC                 </td><td>North               </td><td>Lions               </td></tr>\n",
       "\t<tr><td>Green Bay Packers   </td><td>GB                  </td><td>NFC                 </td><td>North               </td><td>Packers             </td></tr>\n",
       "\t<tr><td>Houston Texans      </td><td>HOU                 </td><td>AFC                 </td><td>South               </td><td>Texans              </td></tr>\n",
       "\t<tr><td>Indianapolis Colts  </td><td>IND                 </td><td>AFC                 </td><td>South               </td><td>Colts               </td></tr>\n",
       "\t<tr><td>Jacksonville Jaguars</td><td>JAX                 </td><td>AFC                 </td><td>South               </td><td>Jaguars             </td></tr>\n",
       "\t<tr><td>Kansas City Chiefs  </td><td>KC                  </td><td>AFC                 </td><td>West                </td><td>Chiefs              </td></tr>\n",
       "\t<tr><td>Miami Dolphins      </td><td>MIA                 </td><td>AFC                 </td><td>East                </td><td>Dolphins            </td></tr>\n",
       "\t<tr><td>Minnesota Vikings   </td><td>MIN                 </td><td>NFC                 </td><td>North               </td><td>Vikings             </td></tr>\n",
       "\t<tr><td>New England Patriots</td><td>NE                  </td><td>AFC                 </td><td>East                </td><td>Patriots            </td></tr>\n",
       "\t<tr><td>New Orleans Saints  </td><td>NO                  </td><td>NFC                 </td><td>South               </td><td>Saints              </td></tr>\n",
       "\t<tr><td>NY Giants           </td><td>NYG                 </td><td>NFC                 </td><td>East                </td><td>Giants              </td></tr>\n",
       "\t<tr><td>NY Jets             </td><td>NYJ                 </td><td>AFC                 </td><td>East                </td><td>Jets                </td></tr>\n",
       "\t<tr><td>Oakland Raiders     </td><td>OAK                 </td><td>AFC                 </td><td>West                </td><td>Raiders             </td></tr>\n",
       "\t<tr><td>Philadelphia Eagles </td><td>PHI                 </td><td>NFC                 </td><td>East                </td><td>Eagles              </td></tr>\n",
       "\t<tr><td>Pittsburgh Steelers </td><td>PIT                 </td><td>AFC                 </td><td>North               </td><td>Steelers            </td></tr>\n",
       "\t<tr><td>San Diego Chargers  </td><td>SD                  </td><td>AFC                 </td><td>West                </td><td>Chargers            </td></tr>\n",
       "\t<tr><td>San Francisco 49ers </td><td>SF                  </td><td>NFC                 </td><td>West                </td><td>49ers               </td></tr>\n",
       "\t<tr><td>Seattle Seahawks    </td><td>SEA                 </td><td>NFC                 </td><td>West                </td><td>Seahawks            </td></tr>\n",
       "\t<tr><td>St. Louis Rams      </td><td>STL                 </td><td>NFC                 </td><td>West                </td><td>Rams                </td></tr>\n",
       "\t<tr><td>Tampa Bay Buccaneers</td><td>TB                  </td><td>NFC                 </td><td>South               </td><td>Buccaneers          </td></tr>\n",
       "\t<tr><td>Tennessee Titans    </td><td>TEN                 </td><td>AFC                 </td><td>South               </td><td>Titans              </td></tr>\n",
       "\t<tr><td>Washington Redskins </td><td>WAS                 </td><td>NFC                 </td><td>East                </td><td>Redskins            </td></tr>\n",
       "\t<tr><td>Los Angeles Rams    </td><td>LAR                 </td><td>NFC                 </td><td>West                </td><td>Rams                </td></tr>\n",
       "\t<tr><td>Los Angeles Chargers</td><td>LAC                 </td><td>AFC                 </td><td>West                </td><td>Chargers            </td></tr>\n",
       "</tbody>\n",
       "</table>\n"
      ],
      "text/latex": [
       "\\begin{tabular}{r|lllll}\n",
       " Team & Tm & Conference & Division & masc\\\\\n",
       "\\hline\n",
       "\t Arizona Cardinals    & ARI                  & NFC                  & West                 & Cardinals           \\\\\n",
       "\t Atlanta Falcons      & ATL                  & NFC                  & South                & Falcons             \\\\\n",
       "\t Baltimore Ravens     & BAL                  & AFC                  & North                & Ravens              \\\\\n",
       "\t Buffalo Bills        & BUF                  & AFC                  & East                 & Bills               \\\\\n",
       "\t Carolina Panthers    & CAR                  & NFC                  & South                & Panthers            \\\\\n",
       "\t Chicago Bears        & CHI                  & NFC                  & North                & Bears               \\\\\n",
       "\t Cincinnati Bengals   & CIN                  & AFC                  & North                & Bengals             \\\\\n",
       "\t Cleveland Browns     & CLE                  & AFC                  & North                & Browns              \\\\\n",
       "\t Dallas Cowboys       & DAL                  & NFC                  & East                 & Cowboys             \\\\\n",
       "\t Denver Broncos       & DEN                  & AFC                  & West                 & Broncos             \\\\\n",
       "\t Detroit Lions        & DET                  & NFC                  & North                & Lions               \\\\\n",
       "\t Green Bay Packers    & GB                   & NFC                  & North                & Packers             \\\\\n",
       "\t Houston Texans       & HOU                  & AFC                  & South                & Texans              \\\\\n",
       "\t Indianapolis Colts   & IND                  & AFC                  & South                & Colts               \\\\\n",
       "\t Jacksonville Jaguars & JAX                  & AFC                  & South                & Jaguars             \\\\\n",
       "\t Kansas City Chiefs   & KC                   & AFC                  & West                 & Chiefs              \\\\\n",
       "\t Miami Dolphins       & MIA                  & AFC                  & East                 & Dolphins            \\\\\n",
       "\t Minnesota Vikings    & MIN                  & NFC                  & North                & Vikings             \\\\\n",
       "\t New England Patriots & NE                   & AFC                  & East                 & Patriots            \\\\\n",
       "\t New Orleans Saints   & NO                   & NFC                  & South                & Saints              \\\\\n",
       "\t NY Giants            & NYG                  & NFC                  & East                 & Giants              \\\\\n",
       "\t NY Jets              & NYJ                  & AFC                  & East                 & Jets                \\\\\n",
       "\t Oakland Raiders      & OAK                  & AFC                  & West                 & Raiders             \\\\\n",
       "\t Philadelphia Eagles  & PHI                  & NFC                  & East                 & Eagles              \\\\\n",
       "\t Pittsburgh Steelers  & PIT                  & AFC                  & North                & Steelers            \\\\\n",
       "\t San Diego Chargers   & SD                   & AFC                  & West                 & Chargers            \\\\\n",
       "\t San Francisco 49ers  & SF                   & NFC                  & West                 & 49ers               \\\\\n",
       "\t Seattle Seahawks     & SEA                  & NFC                  & West                 & Seahawks            \\\\\n",
       "\t St. Louis Rams       & STL                  & NFC                  & West                 & Rams                \\\\\n",
       "\t Tampa Bay Buccaneers & TB                   & NFC                  & South                & Buccaneers          \\\\\n",
       "\t Tennessee Titans     & TEN                  & AFC                  & South                & Titans              \\\\\n",
       "\t Washington Redskins  & WAS                  & NFC                  & East                 & Redskins            \\\\\n",
       "\t Los Angeles Rams     & LAR                  & NFC                  & West                 & Rams                \\\\\n",
       "\t Los Angeles Chargers & LAC                  & AFC                  & West                 & Chargers            \\\\\n",
       "\\end{tabular}\n"
      ],
      "text/markdown": [
       "\n",
       "Team | Tm | Conference | Division | masc | \n",
       "|---|---|---|---|---|---|---|---|---|---|---|---|---|---|---|---|---|---|---|---|---|---|---|---|---|---|---|---|---|---|---|---|---|---|\n",
       "| Arizona Cardinals    | ARI                  | NFC                  | West                 | Cardinals            | \n",
       "| Atlanta Falcons      | ATL                  | NFC                  | South                | Falcons              | \n",
       "| Baltimore Ravens     | BAL                  | AFC                  | North                | Ravens               | \n",
       "| Buffalo Bills        | BUF                  | AFC                  | East                 | Bills                | \n",
       "| Carolina Panthers    | CAR                  | NFC                  | South                | Panthers             | \n",
       "| Chicago Bears        | CHI                  | NFC                  | North                | Bears                | \n",
       "| Cincinnati Bengals   | CIN                  | AFC                  | North                | Bengals              | \n",
       "| Cleveland Browns     | CLE                  | AFC                  | North                | Browns               | \n",
       "| Dallas Cowboys       | DAL                  | NFC                  | East                 | Cowboys              | \n",
       "| Denver Broncos       | DEN                  | AFC                  | West                 | Broncos              | \n",
       "| Detroit Lions        | DET                  | NFC                  | North                | Lions                | \n",
       "| Green Bay Packers    | GB                   | NFC                  | North                | Packers              | \n",
       "| Houston Texans       | HOU                  | AFC                  | South                | Texans               | \n",
       "| Indianapolis Colts   | IND                  | AFC                  | South                | Colts                | \n",
       "| Jacksonville Jaguars | JAX                  | AFC                  | South                | Jaguars              | \n",
       "| Kansas City Chiefs   | KC                   | AFC                  | West                 | Chiefs               | \n",
       "| Miami Dolphins       | MIA                  | AFC                  | East                 | Dolphins             | \n",
       "| Minnesota Vikings    | MIN                  | NFC                  | North                | Vikings              | \n",
       "| New England Patriots | NE                   | AFC                  | East                 | Patriots             | \n",
       "| New Orleans Saints   | NO                   | NFC                  | South                | Saints               | \n",
       "| NY Giants            | NYG                  | NFC                  | East                 | Giants               | \n",
       "| NY Jets              | NYJ                  | AFC                  | East                 | Jets                 | \n",
       "| Oakland Raiders      | OAK                  | AFC                  | West                 | Raiders              | \n",
       "| Philadelphia Eagles  | PHI                  | NFC                  | East                 | Eagles               | \n",
       "| Pittsburgh Steelers  | PIT                  | AFC                  | North                | Steelers             | \n",
       "| San Diego Chargers   | SD                   | AFC                  | West                 | Chargers             | \n",
       "| San Francisco 49ers  | SF                   | NFC                  | West                 | 49ers                | \n",
       "| Seattle Seahawks     | SEA                  | NFC                  | West                 | Seahawks             | \n",
       "| St. Louis Rams       | STL                  | NFC                  | West                 | Rams                 | \n",
       "| Tampa Bay Buccaneers | TB                   | NFC                  | South                | Buccaneers           | \n",
       "| Tennessee Titans     | TEN                  | AFC                  | South                | Titans               | \n",
       "| Washington Redskins  | WAS                  | NFC                  | East                 | Redskins             | \n",
       "| Los Angeles Rams     | LAR                  | NFC                  | West                 | Rams                 | \n",
       "| Los Angeles Chargers | LAC                  | AFC                  | West                 | Chargers             | \n",
       "\n",
       "\n"
      ],
      "text/plain": [
       "   Team                 Tm  Conference Division masc      \n",
       "1  Arizona Cardinals    ARI NFC        West     Cardinals \n",
       "2  Atlanta Falcons      ATL NFC        South    Falcons   \n",
       "3  Baltimore Ravens     BAL AFC        North    Ravens    \n",
       "4  Buffalo Bills        BUF AFC        East     Bills     \n",
       "5  Carolina Panthers    CAR NFC        South    Panthers  \n",
       "6  Chicago Bears        CHI NFC        North    Bears     \n",
       "7  Cincinnati Bengals   CIN AFC        North    Bengals   \n",
       "8  Cleveland Browns     CLE AFC        North    Browns    \n",
       "9  Dallas Cowboys       DAL NFC        East     Cowboys   \n",
       "10 Denver Broncos       DEN AFC        West     Broncos   \n",
       "11 Detroit Lions        DET NFC        North    Lions     \n",
       "12 Green Bay Packers    GB  NFC        North    Packers   \n",
       "13 Houston Texans       HOU AFC        South    Texans    \n",
       "14 Indianapolis Colts   IND AFC        South    Colts     \n",
       "15 Jacksonville Jaguars JAX AFC        South    Jaguars   \n",
       "16 Kansas City Chiefs   KC  AFC        West     Chiefs    \n",
       "17 Miami Dolphins       MIA AFC        East     Dolphins  \n",
       "18 Minnesota Vikings    MIN NFC        North    Vikings   \n",
       "19 New England Patriots NE  AFC        East     Patriots  \n",
       "20 New Orleans Saints   NO  NFC        South    Saints    \n",
       "21 NY Giants            NYG NFC        East     Giants    \n",
       "22 NY Jets              NYJ AFC        East     Jets      \n",
       "23 Oakland Raiders      OAK AFC        West     Raiders   \n",
       "24 Philadelphia Eagles  PHI NFC        East     Eagles    \n",
       "25 Pittsburgh Steelers  PIT AFC        North    Steelers  \n",
       "26 San Diego Chargers   SD  AFC        West     Chargers  \n",
       "27 San Francisco 49ers  SF  NFC        West     49ers     \n",
       "28 Seattle Seahawks     SEA NFC        West     Seahawks  \n",
       "29 St. Louis Rams       STL NFC        West     Rams      \n",
       "30 Tampa Bay Buccaneers TB  NFC        South    Buccaneers\n",
       "31 Tennessee Titans     TEN AFC        South    Titans    \n",
       "32 Washington Redskins  WAS NFC        East     Redskins  \n",
       "33 Los Angeles Rams     LAR NFC        West     Rams      \n",
       "34 Los Angeles Chargers LAC AFC        West     Chargers  "
      ]
     },
     "metadata": {},
     "output_type": "display_data"
    }
   ],
   "source": [
    "ref"
   ]
  },
  {
   "cell_type": "code",
   "execution_count": 14,
   "metadata": {},
   "outputs": [
    {
     "data": {
      "text/html": [
       "<table>\n",
       "<thead><tr><th scope=col>year</th><th scope=col>n</th></tr></thead>\n",
       "<tbody>\n",
       "\t<tr><td>2014</td><td>32  </td></tr>\n",
       "\t<tr><td>2015</td><td>32  </td></tr>\n",
       "\t<tr><td>2016</td><td>32  </td></tr>\n",
       "\t<tr><td>2017</td><td>32  </td></tr>\n",
       "\t<tr><td>2018</td><td>32  </td></tr>\n",
       "</tbody>\n",
       "</table>\n"
      ],
      "text/latex": [
       "\\begin{tabular}{r|ll}\n",
       " year & n\\\\\n",
       "\\hline\n",
       "\t 2014 & 32  \\\\\n",
       "\t 2015 & 32  \\\\\n",
       "\t 2016 & 32  \\\\\n",
       "\t 2017 & 32  \\\\\n",
       "\t 2018 & 32  \\\\\n",
       "\\end{tabular}\n"
      ],
      "text/markdown": [
       "\n",
       "year | n | \n",
       "|---|---|---|---|---|\n",
       "| 2014 | 32   | \n",
       "| 2015 | 32   | \n",
       "| 2016 | 32   | \n",
       "| 2017 | 32   | \n",
       "| 2018 | 32   | \n",
       "\n",
       "\n"
      ],
      "text/plain": [
       "  year n \n",
       "1 2014 32\n",
       "2 2015 32\n",
       "3 2016 32\n",
       "4 2017 32\n",
       "5 2018 32"
      ]
     },
     "metadata": {},
     "output_type": "display_data"
    }
   ],
   "source": [
    "rushing_player <- merge(ref,top_rushers, by = 'Tm')\n",
    "\n",
    "rushing_player %>%\n",
    "group_by(year) %>%\n",
    "summarise(n = n())"
   ]
  },
  {
   "cell_type": "code",
   "execution_count": 15,
   "metadata": {},
   "outputs": [
    {
     "data": {
      "text/html": [
       "160"
      ],
      "text/latex": [
       "160"
      ],
      "text/markdown": [
       "160"
      ],
      "text/plain": [
       "[1] 160"
      ]
     },
     "metadata": {},
     "output_type": "display_data"
    },
    {
     "data": {
      "text/html": [
       "<table>\n",
       "<thead><tr><th scope=col>Tm</th><th scope=col>n</th></tr></thead>\n",
       "<tbody>\n",
       "\t<tr><td>ARI</td><td>5  </td></tr>\n",
       "\t<tr><td>ATL</td><td>5  </td></tr>\n",
       "\t<tr><td>BAL</td><td>5  </td></tr>\n",
       "\t<tr><td>BUF</td><td>5  </td></tr>\n",
       "\t<tr><td>CAR</td><td>5  </td></tr>\n",
       "\t<tr><td>CHI</td><td>5  </td></tr>\n",
       "\t<tr><td>CIN</td><td>5  </td></tr>\n",
       "\t<tr><td>CLE</td><td>5  </td></tr>\n",
       "\t<tr><td>DAL</td><td>5  </td></tr>\n",
       "\t<tr><td>DEN</td><td>5  </td></tr>\n",
       "\t<tr><td>DET</td><td>5  </td></tr>\n",
       "\t<tr><td>GB </td><td>5  </td></tr>\n",
       "\t<tr><td>HOU</td><td>5  </td></tr>\n",
       "\t<tr><td>IND</td><td>5  </td></tr>\n",
       "\t<tr><td>JAX</td><td>5  </td></tr>\n",
       "\t<tr><td>KC </td><td>5  </td></tr>\n",
       "\t<tr><td>LAC</td><td>2  </td></tr>\n",
       "\t<tr><td>LAR</td><td>3  </td></tr>\n",
       "\t<tr><td>MIA</td><td>5  </td></tr>\n",
       "\t<tr><td>MIN</td><td>5  </td></tr>\n",
       "\t<tr><td>NE </td><td>5  </td></tr>\n",
       "\t<tr><td>NO </td><td>5  </td></tr>\n",
       "\t<tr><td>NYG</td><td>5  </td></tr>\n",
       "\t<tr><td>NYJ</td><td>5  </td></tr>\n",
       "\t<tr><td>OAK</td><td>5  </td></tr>\n",
       "\t<tr><td>PHI</td><td>5  </td></tr>\n",
       "\t<tr><td>PIT</td><td>5  </td></tr>\n",
       "\t<tr><td>SD </td><td>3  </td></tr>\n",
       "\t<tr><td>SEA</td><td>5  </td></tr>\n",
       "\t<tr><td>SF </td><td>5  </td></tr>\n",
       "\t<tr><td>STL</td><td>2  </td></tr>\n",
       "\t<tr><td>TB </td><td>5  </td></tr>\n",
       "\t<tr><td>TEN</td><td>5  </td></tr>\n",
       "\t<tr><td>WAS</td><td>5  </td></tr>\n",
       "</tbody>\n",
       "</table>\n"
      ],
      "text/latex": [
       "\\begin{tabular}{r|ll}\n",
       " Tm & n\\\\\n",
       "\\hline\n",
       "\t ARI & 5  \\\\\n",
       "\t ATL & 5  \\\\\n",
       "\t BAL & 5  \\\\\n",
       "\t BUF & 5  \\\\\n",
       "\t CAR & 5  \\\\\n",
       "\t CHI & 5  \\\\\n",
       "\t CIN & 5  \\\\\n",
       "\t CLE & 5  \\\\\n",
       "\t DAL & 5  \\\\\n",
       "\t DEN & 5  \\\\\n",
       "\t DET & 5  \\\\\n",
       "\t GB  & 5  \\\\\n",
       "\t HOU & 5  \\\\\n",
       "\t IND & 5  \\\\\n",
       "\t JAX & 5  \\\\\n",
       "\t KC  & 5  \\\\\n",
       "\t LAC & 2  \\\\\n",
       "\t LAR & 3  \\\\\n",
       "\t MIA & 5  \\\\\n",
       "\t MIN & 5  \\\\\n",
       "\t NE  & 5  \\\\\n",
       "\t NO  & 5  \\\\\n",
       "\t NYG & 5  \\\\\n",
       "\t NYJ & 5  \\\\\n",
       "\t OAK & 5  \\\\\n",
       "\t PHI & 5  \\\\\n",
       "\t PIT & 5  \\\\\n",
       "\t SD  & 3  \\\\\n",
       "\t SEA & 5  \\\\\n",
       "\t SF  & 5  \\\\\n",
       "\t STL & 2  \\\\\n",
       "\t TB  & 5  \\\\\n",
       "\t TEN & 5  \\\\\n",
       "\t WAS & 5  \\\\\n",
       "\\end{tabular}\n"
      ],
      "text/markdown": [
       "\n",
       "Tm | n | \n",
       "|---|---|---|---|---|---|---|---|---|---|---|---|---|---|---|---|---|---|---|---|---|---|---|---|---|---|---|---|---|---|---|---|---|---|\n",
       "| ARI | 5   | \n",
       "| ATL | 5   | \n",
       "| BAL | 5   | \n",
       "| BUF | 5   | \n",
       "| CAR | 5   | \n",
       "| CHI | 5   | \n",
       "| CIN | 5   | \n",
       "| CLE | 5   | \n",
       "| DAL | 5   | \n",
       "| DEN | 5   | \n",
       "| DET | 5   | \n",
       "| GB  | 5   | \n",
       "| HOU | 5   | \n",
       "| IND | 5   | \n",
       "| JAX | 5   | \n",
       "| KC  | 5   | \n",
       "| LAC | 2   | \n",
       "| LAR | 3   | \n",
       "| MIA | 5   | \n",
       "| MIN | 5   | \n",
       "| NE  | 5   | \n",
       "| NO  | 5   | \n",
       "| NYG | 5   | \n",
       "| NYJ | 5   | \n",
       "| OAK | 5   | \n",
       "| PHI | 5   | \n",
       "| PIT | 5   | \n",
       "| SD  | 3   | \n",
       "| SEA | 5   | \n",
       "| SF  | 5   | \n",
       "| STL | 2   | \n",
       "| TB  | 5   | \n",
       "| TEN | 5   | \n",
       "| WAS | 5   | \n",
       "\n",
       "\n"
      ],
      "text/plain": [
       "   Tm  n\n",
       "1  ARI 5\n",
       "2  ATL 5\n",
       "3  BAL 5\n",
       "4  BUF 5\n",
       "5  CAR 5\n",
       "6  CHI 5\n",
       "7  CIN 5\n",
       "8  CLE 5\n",
       "9  DAL 5\n",
       "10 DEN 5\n",
       "11 DET 5\n",
       "12 GB  5\n",
       "13 HOU 5\n",
       "14 IND 5\n",
       "15 JAX 5\n",
       "16 KC  5\n",
       "17 LAC 2\n",
       "18 LAR 3\n",
       "19 MIA 5\n",
       "20 MIN 5\n",
       "21 NE  5\n",
       "22 NO  5\n",
       "23 NYG 5\n",
       "24 NYJ 5\n",
       "25 OAK 5\n",
       "26 PHI 5\n",
       "27 PIT 5\n",
       "28 SD  3\n",
       "29 SEA 5\n",
       "30 SF  5\n",
       "31 STL 2\n",
       "32 TB  5\n",
       "33 TEN 5\n",
       "34 WAS 5"
      ]
     },
     "metadata": {},
     "output_type": "display_data"
    }
   ],
   "source": [
    "nrow(rushing_player)\n",
    "rushing_player %>%\n",
    "group_by(Tm) %>%\n",
    "summarise(n = n())"
   ]
  },
  {
   "cell_type": "code",
   "execution_count": 16,
   "metadata": {},
   "outputs": [],
   "source": [
    "ref[nrow(ref) + 1,] <- list('Los Angeles Rams', 'LAR', 'NFC', 'West')\n",
    "ref[nrow(ref) + 1,] <- list('Los Angeles Chargers', 'LAC', 'AFC', 'West')"
   ]
  },
  {
   "cell_type": "code",
   "execution_count": 17,
   "metadata": {},
   "outputs": [],
   "source": [
    "rushing_player %>%\n",
    "select(year, Tm, Team, Player, Age, Pos, G, Att, Yds, TD, Fmb, Conference, Division, masc) -> rushing_player"
   ]
  },
  {
   "cell_type": "code",
   "execution_count": 18,
   "metadata": {},
   "outputs": [
    {
     "data": {
      "text/html": [
       "<ol class=list-inline>\n",
       "\t<li>'year'</li>\n",
       "\t<li>'Tm'</li>\n",
       "\t<li>'Team'</li>\n",
       "\t<li>'Player'</li>\n",
       "\t<li>'Age'</li>\n",
       "\t<li>'Pos'</li>\n",
       "\t<li>'G'</li>\n",
       "\t<li>'Att'</li>\n",
       "\t<li>'Yds'</li>\n",
       "\t<li>'TD'</li>\n",
       "\t<li>'Fmb'</li>\n",
       "\t<li>'Conference'</li>\n",
       "\t<li>'Division'</li>\n",
       "\t<li>'masc'</li>\n",
       "</ol>\n"
      ],
      "text/latex": [
       "\\begin{enumerate*}\n",
       "\\item 'year'\n",
       "\\item 'Tm'\n",
       "\\item 'Team'\n",
       "\\item 'Player'\n",
       "\\item 'Age'\n",
       "\\item 'Pos'\n",
       "\\item 'G'\n",
       "\\item 'Att'\n",
       "\\item 'Yds'\n",
       "\\item 'TD'\n",
       "\\item 'Fmb'\n",
       "\\item 'Conference'\n",
       "\\item 'Division'\n",
       "\\item 'masc'\n",
       "\\end{enumerate*}\n"
      ],
      "text/markdown": [
       "1. 'year'\n",
       "2. 'Tm'\n",
       "3. 'Team'\n",
       "4. 'Player'\n",
       "5. 'Age'\n",
       "6. 'Pos'\n",
       "7. 'G'\n",
       "8. 'Att'\n",
       "9. 'Yds'\n",
       "10. 'TD'\n",
       "11. 'Fmb'\n",
       "12. 'Conference'\n",
       "13. 'Division'\n",
       "14. 'masc'\n",
       "\n",
       "\n"
      ],
      "text/plain": [
       " [1] \"year\"       \"Tm\"         \"Team\"       \"Player\"     \"Age\"       \n",
       " [6] \"Pos\"        \"G\"          \"Att\"        \"Yds\"        \"TD\"        \n",
       "[11] \"Fmb\"        \"Conference\" \"Division\"   \"masc\"      "
      ]
     },
     "metadata": {},
     "output_type": "display_data"
    }
   ],
   "source": [
    "names(rushing_player)"
   ]
  },
  {
   "cell_type": "code",
   "execution_count": 19,
   "metadata": {},
   "outputs": [
    {
     "data": {
      "text/html": [
       "<table>\n",
       "<thead><tr><th scope=col>masc</th><th scope=col>year</th><th scope=col>Tm.x</th><th scope=col>Yds.x</th><th scope=col>Att.x</th><th scope=col>TD.x</th><th scope=col>Fmb.x</th><th scope=col>Tm.y</th><th scope=col>Team</th><th scope=col>Player</th><th scope=col>Age</th><th scope=col>Pos</th><th scope=col>G</th><th scope=col>Att.y</th><th scope=col>Yds.y</th><th scope=col>TD.y</th><th scope=col>Fmb.y</th><th scope=col>Conference</th><th scope=col>Division</th></tr></thead>\n",
       "<tbody>\n",
       "\t<tr><td>49ers              </td><td>2014               </td><td>San Francisco 49ers</td><td>2176               </td><td>470                </td><td>10                 </td><td>18                 </td><td>SF                 </td><td>San Francisco 49ers</td><td>Frank Gore         </td><td>31                 </td><td>RB                 </td><td>16                 </td><td>255                </td><td>1106               </td><td>4                  </td><td>2                  </td><td>NFC                </td><td>West               </td></tr>\n",
       "\t<tr><td>49ers              </td><td>2015               </td><td>San Francisco 49ers</td><td>1544               </td><td>390                </td><td> 7                 </td><td>21                 </td><td>SF                 </td><td>San Francisco 49ers</td><td>Carlos Hyde        </td><td>25                 </td><td>rb                 </td><td> 7                 </td><td>115                </td><td> 470               </td><td>3                  </td><td>1                  </td><td>NFC                </td><td>West               </td></tr>\n",
       "\t<tr><td>49ers              </td><td>2016               </td><td>San Francisco 49ers</td><td>2019               </td><td>458                </td><td>15                 </td><td>29                 </td><td>SF                 </td><td>San Francisco 49ers</td><td>Carlos Hyde        </td><td>26                 </td><td>RB                 </td><td>13                 </td><td>217                </td><td> 988               </td><td>6                  </td><td>5                  </td><td>NFC                </td><td>West               </td></tr>\n",
       "\t<tr><td>49ers              </td><td>2017               </td><td>San Francisco 49ers</td><td>1662               </td><td>408                </td><td>15                 </td><td>14                 </td><td>SF                 </td><td>San Francisco 49ers</td><td>Carlos Hyde        </td><td>27                 </td><td>RB                 </td><td>16                 </td><td>240                </td><td> 938               </td><td>8                  </td><td>2                  </td><td>NFC                </td><td>West               </td></tr>\n",
       "\t<tr><td>49ers              </td><td>2018               </td><td>San Francisco 49ers</td><td>1902               </td><td>423                </td><td> 7                 </td><td>31                 </td><td>SF                 </td><td>San Francisco 49ers</td><td>Matt Breida        </td><td>23                 </td><td>RB                 </td><td>14                 </td><td>153                </td><td> 814               </td><td>3                  </td><td>1                  </td><td>NFC                </td><td>West               </td></tr>\n",
       "\t<tr><td>Bears              </td><td>2014               </td><td>Chicago Bears      </td><td>1441               </td><td>355                </td><td> 8                 </td><td>19                 </td><td>CHI                </td><td>Chicago Bears      </td><td>Matt Forte         </td><td>29                 </td><td>RB                 </td><td>16                 </td><td>266                </td><td>1038               </td><td>6                  </td><td>2                  </td><td>NFC                </td><td>North              </td></tr>\n",
       "</tbody>\n",
       "</table>\n"
      ],
      "text/latex": [
       "\\begin{tabular}{r|lllllllllllllllllll}\n",
       " masc & year & Tm.x & Yds.x & Att.x & TD.x & Fmb.x & Tm.y & Team & Player & Age & Pos & G & Att.y & Yds.y & TD.y & Fmb.y & Conference & Division\\\\\n",
       "\\hline\n",
       "\t 49ers               & 2014                & San Francisco 49ers & 2176                & 470                 & 10                  & 18                  & SF                  & San Francisco 49ers & Frank Gore          & 31                  & RB                  & 16                  & 255                 & 1106                & 4                   & 2                   & NFC                 & West               \\\\\n",
       "\t 49ers               & 2015                & San Francisco 49ers & 1544                & 390                 &  7                  & 21                  & SF                  & San Francisco 49ers & Carlos Hyde         & 25                  & rb                  &  7                  & 115                 &  470                & 3                   & 1                   & NFC                 & West               \\\\\n",
       "\t 49ers               & 2016                & San Francisco 49ers & 2019                & 458                 & 15                  & 29                  & SF                  & San Francisco 49ers & Carlos Hyde         & 26                  & RB                  & 13                  & 217                 &  988                & 6                   & 5                   & NFC                 & West               \\\\\n",
       "\t 49ers               & 2017                & San Francisco 49ers & 1662                & 408                 & 15                  & 14                  & SF                  & San Francisco 49ers & Carlos Hyde         & 27                  & RB                  & 16                  & 240                 &  938                & 8                   & 2                   & NFC                 & West               \\\\\n",
       "\t 49ers               & 2018                & San Francisco 49ers & 1902                & 423                 &  7                  & 31                  & SF                  & San Francisco 49ers & Matt Breida         & 23                  & RB                  & 14                  & 153                 &  814                & 3                   & 1                   & NFC                 & West               \\\\\n",
       "\t Bears               & 2014                & Chicago Bears       & 1441                & 355                 &  8                  & 19                  & CHI                 & Chicago Bears       & Matt Forte          & 29                  & RB                  & 16                  & 266                 & 1038                & 6                   & 2                   & NFC                 & North              \\\\\n",
       "\\end{tabular}\n"
      ],
      "text/markdown": [
       "\n",
       "masc | year | Tm.x | Yds.x | Att.x | TD.x | Fmb.x | Tm.y | Team | Player | Age | Pos | G | Att.y | Yds.y | TD.y | Fmb.y | Conference | Division | \n",
       "|---|---|---|---|---|---|\n",
       "| 49ers               | 2014                | San Francisco 49ers | 2176                | 470                 | 10                  | 18                  | SF                  | San Francisco 49ers | Frank Gore          | 31                  | RB                  | 16                  | 255                 | 1106                | 4                   | 2                   | NFC                 | West                | \n",
       "| 49ers               | 2015                | San Francisco 49ers | 1544                | 390                 |  7                  | 21                  | SF                  | San Francisco 49ers | Carlos Hyde         | 25                  | rb                  |  7                  | 115                 |  470                | 3                   | 1                   | NFC                 | West                | \n",
       "| 49ers               | 2016                | San Francisco 49ers | 2019                | 458                 | 15                  | 29                  | SF                  | San Francisco 49ers | Carlos Hyde         | 26                  | RB                  | 13                  | 217                 |  988                | 6                   | 5                   | NFC                 | West                | \n",
       "| 49ers               | 2017                | San Francisco 49ers | 1662                | 408                 | 15                  | 14                  | SF                  | San Francisco 49ers | Carlos Hyde         | 27                  | RB                  | 16                  | 240                 |  938                | 8                   | 2                   | NFC                 | West                | \n",
       "| 49ers               | 2018                | San Francisco 49ers | 1902                | 423                 |  7                  | 31                  | SF                  | San Francisco 49ers | Matt Breida         | 23                  | RB                  | 14                  | 153                 |  814                | 3                   | 1                   | NFC                 | West                | \n",
       "| Bears               | 2014                | Chicago Bears       | 1441                | 355                 |  8                  | 19                  | CHI                 | Chicago Bears       | Matt Forte          | 29                  | RB                  | 16                  | 266                 | 1038                | 6                   | 2                   | NFC                 | North               | \n",
       "\n",
       "\n"
      ],
      "text/plain": [
       "  masc  year Tm.x                Yds.x Att.x TD.x Fmb.x Tm.y\n",
       "1 49ers 2014 San Francisco 49ers 2176  470   10   18    SF  \n",
       "2 49ers 2015 San Francisco 49ers 1544  390    7   21    SF  \n",
       "3 49ers 2016 San Francisco 49ers 2019  458   15   29    SF  \n",
       "4 49ers 2017 San Francisco 49ers 1662  408   15   14    SF  \n",
       "5 49ers 2018 San Francisco 49ers 1902  423    7   31    SF  \n",
       "6 Bears 2014 Chicago Bears       1441  355    8   19    CHI \n",
       "  Team                Player      Age Pos G  Att.y Yds.y TD.y Fmb.y Conference\n",
       "1 San Francisco 49ers Frank Gore  31  RB  16 255   1106  4    2     NFC       \n",
       "2 San Francisco 49ers Carlos Hyde 25  rb   7 115    470  3    1     NFC       \n",
       "3 San Francisco 49ers Carlos Hyde 26  RB  13 217    988  6    5     NFC       \n",
       "4 San Francisco 49ers Carlos Hyde 27  RB  16 240    938  8    2     NFC       \n",
       "5 San Francisco 49ers Matt Breida 23  RB  14 153    814  3    1     NFC       \n",
       "6 Chicago Bears       Matt Forte  29  RB  16 266   1038  6    2     NFC       \n",
       "  Division\n",
       "1 West    \n",
       "2 West    \n",
       "3 West    \n",
       "4 West    \n",
       "5 West    \n",
       "6 North   "
      ]
     },
     "metadata": {},
     "output_type": "display_data"
    }
   ],
   "source": [
    "rushing_team %>%\n",
    "select(Tm, Yds, Att, TD, Fmb, year, masc) %>%\n",
    "merge(rushing_player, by = c('masc', 'year')) -> rushing\n",
    "head(rushing)\n"
   ]
  },
  {
   "cell_type": "code",
   "execution_count": 21,
   "metadata": {},
   "outputs": [
    {
     "data": {
      "text/html": [
       "<table>\n",
       "<thead><tr><th scope=col>Mascot</th><th scope=col>Year</th><th scope=col>Team</th><th scope=col>TeamYds</th><th scope=col>TeamAtt</th><th scope=col>TeamTD</th><th scope=col>TeamFmb</th><th scope=col>Abbv</th><th scope=col>Team.2</th><th scope=col>Player</th><th scope=col>Age</th><th scope=col>Pos</th><th scope=col>G</th><th scope=col>PlayerAtt</th><th scope=col>PlayerYds</th><th scope=col>PlayerTD</th><th scope=col>PlayerFmb</th><th scope=col>Conference</th><th scope=col>Division</th></tr></thead>\n",
       "<tbody>\n",
       "\t<tr><td>49ers              </td><td>2014               </td><td>San Francisco 49ers</td><td>2176               </td><td>470                </td><td>10                 </td><td>18                 </td><td>SF                 </td><td>San Francisco 49ers</td><td>Frank Gore         </td><td>31                 </td><td>RB                 </td><td>16                 </td><td>255                </td><td>1106               </td><td>4                  </td><td>2                  </td><td>NFC                </td><td>West               </td></tr>\n",
       "\t<tr><td>49ers              </td><td>2015               </td><td>San Francisco 49ers</td><td>1544               </td><td>390                </td><td> 7                 </td><td>21                 </td><td>SF                 </td><td>San Francisco 49ers</td><td>Carlos Hyde        </td><td>25                 </td><td>rb                 </td><td> 7                 </td><td>115                </td><td> 470               </td><td>3                  </td><td>1                  </td><td>NFC                </td><td>West               </td></tr>\n",
       "\t<tr><td>49ers              </td><td>2016               </td><td>San Francisco 49ers</td><td>2019               </td><td>458                </td><td>15                 </td><td>29                 </td><td>SF                 </td><td>San Francisco 49ers</td><td>Carlos Hyde        </td><td>26                 </td><td>RB                 </td><td>13                 </td><td>217                </td><td> 988               </td><td>6                  </td><td>5                  </td><td>NFC                </td><td>West               </td></tr>\n",
       "\t<tr><td>49ers              </td><td>2017               </td><td>San Francisco 49ers</td><td>1662               </td><td>408                </td><td>15                 </td><td>14                 </td><td>SF                 </td><td>San Francisco 49ers</td><td>Carlos Hyde        </td><td>27                 </td><td>RB                 </td><td>16                 </td><td>240                </td><td> 938               </td><td>8                  </td><td>2                  </td><td>NFC                </td><td>West               </td></tr>\n",
       "\t<tr><td>49ers              </td><td>2018               </td><td>San Francisco 49ers</td><td>1902               </td><td>423                </td><td> 7                 </td><td>31                 </td><td>SF                 </td><td>San Francisco 49ers</td><td>Matt Breida        </td><td>23                 </td><td>RB                 </td><td>14                 </td><td>153                </td><td> 814               </td><td>3                  </td><td>1                  </td><td>NFC                </td><td>West               </td></tr>\n",
       "\t<tr><td>Bears              </td><td>2014               </td><td>Chicago Bears      </td><td>1441               </td><td>355                </td><td> 8                 </td><td>19                 </td><td>CHI                </td><td>Chicago Bears      </td><td>Matt Forte         </td><td>29                 </td><td>RB                 </td><td>16                 </td><td>266                </td><td>1038               </td><td>6                  </td><td>2                  </td><td>NFC                </td><td>North              </td></tr>\n",
       "</tbody>\n",
       "</table>\n"
      ],
      "text/latex": [
       "\\begin{tabular}{r|lllllllllllllllllll}\n",
       " Mascot & Year & Team & TeamYds & TeamAtt & TeamTD & TeamFmb & Abbv & Team.2 & Player & Age & Pos & G & PlayerAtt & PlayerYds & PlayerTD & PlayerFmb & Conference & Division\\\\\n",
       "\\hline\n",
       "\t 49ers               & 2014                & San Francisco 49ers & 2176                & 470                 & 10                  & 18                  & SF                  & San Francisco 49ers & Frank Gore          & 31                  & RB                  & 16                  & 255                 & 1106                & 4                   & 2                   & NFC                 & West               \\\\\n",
       "\t 49ers               & 2015                & San Francisco 49ers & 1544                & 390                 &  7                  & 21                  & SF                  & San Francisco 49ers & Carlos Hyde         & 25                  & rb                  &  7                  & 115                 &  470                & 3                   & 1                   & NFC                 & West               \\\\\n",
       "\t 49ers               & 2016                & San Francisco 49ers & 2019                & 458                 & 15                  & 29                  & SF                  & San Francisco 49ers & Carlos Hyde         & 26                  & RB                  & 13                  & 217                 &  988                & 6                   & 5                   & NFC                 & West               \\\\\n",
       "\t 49ers               & 2017                & San Francisco 49ers & 1662                & 408                 & 15                  & 14                  & SF                  & San Francisco 49ers & Carlos Hyde         & 27                  & RB                  & 16                  & 240                 &  938                & 8                   & 2                   & NFC                 & West               \\\\\n",
       "\t 49ers               & 2018                & San Francisco 49ers & 1902                & 423                 &  7                  & 31                  & SF                  & San Francisco 49ers & Matt Breida         & 23                  & RB                  & 14                  & 153                 &  814                & 3                   & 1                   & NFC                 & West               \\\\\n",
       "\t Bears               & 2014                & Chicago Bears       & 1441                & 355                 &  8                  & 19                  & CHI                 & Chicago Bears       & Matt Forte          & 29                  & RB                  & 16                  & 266                 & 1038                & 6                   & 2                   & NFC                 & North              \\\\\n",
       "\\end{tabular}\n"
      ],
      "text/markdown": [
       "\n",
       "Mascot | Year | Team | TeamYds | TeamAtt | TeamTD | TeamFmb | Abbv | Team.2 | Player | Age | Pos | G | PlayerAtt | PlayerYds | PlayerTD | PlayerFmb | Conference | Division | \n",
       "|---|---|---|---|---|---|\n",
       "| 49ers               | 2014                | San Francisco 49ers | 2176                | 470                 | 10                  | 18                  | SF                  | San Francisco 49ers | Frank Gore          | 31                  | RB                  | 16                  | 255                 | 1106                | 4                   | 2                   | NFC                 | West                | \n",
       "| 49ers               | 2015                | San Francisco 49ers | 1544                | 390                 |  7                  | 21                  | SF                  | San Francisco 49ers | Carlos Hyde         | 25                  | rb                  |  7                  | 115                 |  470                | 3                   | 1                   | NFC                 | West                | \n",
       "| 49ers               | 2016                | San Francisco 49ers | 2019                | 458                 | 15                  | 29                  | SF                  | San Francisco 49ers | Carlos Hyde         | 26                  | RB                  | 13                  | 217                 |  988                | 6                   | 5                   | NFC                 | West                | \n",
       "| 49ers               | 2017                | San Francisco 49ers | 1662                | 408                 | 15                  | 14                  | SF                  | San Francisco 49ers | Carlos Hyde         | 27                  | RB                  | 16                  | 240                 |  938                | 8                   | 2                   | NFC                 | West                | \n",
       "| 49ers               | 2018                | San Francisco 49ers | 1902                | 423                 |  7                  | 31                  | SF                  | San Francisco 49ers | Matt Breida         | 23                  | RB                  | 14                  | 153                 |  814                | 3                   | 1                   | NFC                 | West                | \n",
       "| Bears               | 2014                | Chicago Bears       | 1441                | 355                 |  8                  | 19                  | CHI                 | Chicago Bears       | Matt Forte          | 29                  | RB                  | 16                  | 266                 | 1038                | 6                   | 2                   | NFC                 | North               | \n",
       "\n",
       "\n"
      ],
      "text/plain": [
       "  Mascot Year Team                TeamYds TeamAtt TeamTD TeamFmb Abbv\n",
       "1 49ers  2014 San Francisco 49ers 2176    470     10     18      SF  \n",
       "2 49ers  2015 San Francisco 49ers 1544    390      7     21      SF  \n",
       "3 49ers  2016 San Francisco 49ers 2019    458     15     29      SF  \n",
       "4 49ers  2017 San Francisco 49ers 1662    408     15     14      SF  \n",
       "5 49ers  2018 San Francisco 49ers 1902    423      7     31      SF  \n",
       "6 Bears  2014 Chicago Bears       1441    355      8     19      CHI \n",
       "  Team.2              Player      Age Pos G  PlayerAtt PlayerYds PlayerTD\n",
       "1 San Francisco 49ers Frank Gore  31  RB  16 255       1106      4       \n",
       "2 San Francisco 49ers Carlos Hyde 25  rb   7 115        470      3       \n",
       "3 San Francisco 49ers Carlos Hyde 26  RB  13 217        988      6       \n",
       "4 San Francisco 49ers Carlos Hyde 27  RB  16 240        938      8       \n",
       "5 San Francisco 49ers Matt Breida 23  RB  14 153        814      3       \n",
       "6 Chicago Bears       Matt Forte  29  RB  16 266       1038      6       \n",
       "  PlayerFmb Conference Division\n",
       "1 2         NFC        West    \n",
       "2 1         NFC        West    \n",
       "3 5         NFC        West    \n",
       "4 2         NFC        West    \n",
       "5 1         NFC        West    \n",
       "6 2         NFC        North   "
      ]
     },
     "metadata": {},
     "output_type": "display_data"
    }
   ],
   "source": [
    "colnames(rushing) <- c('Mascot', 'Year','Team', 'TeamYds', 'TeamAtt','TeamTD','TeamFmb','Abbv','Team.2','Player','Age','Pos','G','PlayerAtt','PlayerYds','PlayerTD','PlayerFmb','Conference','Division')\n",
    "head(rushing)"
   ]
  },
  {
   "cell_type": "code",
   "execution_count": 22,
   "metadata": {},
   "outputs": [],
   "source": [
    "rushing %>%\n",
    "select(-Team.2) -> rushing"
   ]
  },
  {
   "cell_type": "code",
   "execution_count": 24,
   "metadata": {},
   "outputs": [
    {
     "data": {
      "text/html": [
       "<table>\n",
       "<thead><tr><th scope=col>Mascot</th><th scope=col>Year</th><th scope=col>Team</th><th scope=col>TeamYds</th><th scope=col>TeamAtt</th><th scope=col>TeamTD</th><th scope=col>TeamFmb</th><th scope=col>Abbv</th><th scope=col>Player</th><th scope=col>Age</th><th scope=col>...</th><th scope=col>PlayerYds</th><th scope=col>PlayerTD</th><th scope=col>PlayerFmb</th><th scope=col>Conference</th><th scope=col>Division</th><th scope=col>Tm</th><th scope=col>W</th><th scope=col>L</th><th scope=col>PF</th><th scope=col>PA</th></tr></thead>\n",
       "<tbody>\n",
       "\t<tr><td>49ers              </td><td>2014               </td><td>San Francisco 49ers</td><td>2176               </td><td>470                </td><td>10                 </td><td>18                 </td><td>SF                 </td><td>Frank Gore         </td><td>31                 </td><td>...                </td><td>1106               </td><td>4                  </td><td>2                  </td><td>NFC                </td><td>West               </td><td>San Francisco 49ers</td><td>8                  </td><td> 8                 </td><td>306                </td><td>340                </td></tr>\n",
       "\t<tr><td>49ers              </td><td>2015               </td><td>San Francisco 49ers</td><td>1544               </td><td>390                </td><td> 7                 </td><td>21                 </td><td>SF                 </td><td>Carlos Hyde        </td><td>25                 </td><td>...                </td><td> 470               </td><td>3                  </td><td>1                  </td><td>NFC                </td><td>West               </td><td>San Francisco 49ers</td><td>5                  </td><td>11                 </td><td>238                </td><td>387                </td></tr>\n",
       "\t<tr><td>49ers              </td><td>2016               </td><td>San Francisco 49ers</td><td>2019               </td><td>458                </td><td>15                 </td><td>29                 </td><td>SF                 </td><td>Carlos Hyde        </td><td>26                 </td><td>...                </td><td> 988               </td><td>6                  </td><td>5                  </td><td>NFC                </td><td>West               </td><td>San Francisco 49ers</td><td>2                  </td><td>14                 </td><td>309                </td><td>480                </td></tr>\n",
       "\t<tr><td>49ers              </td><td>2017               </td><td>San Francisco 49ers</td><td>1662               </td><td>408                </td><td>15                 </td><td>14                 </td><td>SF                 </td><td>Carlos Hyde        </td><td>27                 </td><td>...                </td><td> 938               </td><td>8                  </td><td>2                  </td><td>NFC                </td><td>West               </td><td>San Francisco 49ers</td><td>6                  </td><td>10                 </td><td>331                </td><td>383                </td></tr>\n",
       "\t<tr><td>49ers              </td><td>2018               </td><td>San Francisco 49ers</td><td>1902               </td><td>423                </td><td> 7                 </td><td>31                 </td><td>SF                 </td><td>Matt Breida        </td><td>23                 </td><td>...                </td><td> 814               </td><td>3                  </td><td>1                  </td><td>NFC                </td><td>West               </td><td>San Francisco 49ers</td><td>4                  </td><td>12                 </td><td>342                </td><td>435                </td></tr>\n",
       "\t<tr><td>Bears              </td><td>2014               </td><td>Chicago Bears      </td><td>1441               </td><td>355                </td><td> 8                 </td><td>19                 </td><td>CHI                </td><td>Matt Forte         </td><td>29                 </td><td>...                </td><td>1038               </td><td>6                  </td><td>2                  </td><td>NFC                </td><td>North              </td><td>Chicago Bears      </td><td>5                  </td><td>11                 </td><td>319                </td><td>442                </td></tr>\n",
       "</tbody>\n",
       "</table>\n"
      ],
      "text/latex": [
       "\\begin{tabular}{r|lllllllllllllllllllllll}\n",
       " Mascot & Year & Team & TeamYds & TeamAtt & TeamTD & TeamFmb & Abbv & Player & Age & ... & PlayerYds & PlayerTD & PlayerFmb & Conference & Division & Tm & W & L & PF & PA\\\\\n",
       "\\hline\n",
       "\t 49ers               & 2014                & San Francisco 49ers & 2176                & 470                 & 10                  & 18                  & SF                  & Frank Gore          & 31                  & ...                 & 1106                & 4                   & 2                   & NFC                 & West                & San Francisco 49ers & 8                   &  8                  & 306                 & 340                \\\\\n",
       "\t 49ers               & 2015                & San Francisco 49ers & 1544                & 390                 &  7                  & 21                  & SF                  & Carlos Hyde         & 25                  & ...                 &  470                & 3                   & 1                   & NFC                 & West                & San Francisco 49ers & 5                   & 11                  & 238                 & 387                \\\\\n",
       "\t 49ers               & 2016                & San Francisco 49ers & 2019                & 458                 & 15                  & 29                  & SF                  & Carlos Hyde         & 26                  & ...                 &  988                & 6                   & 5                   & NFC                 & West                & San Francisco 49ers & 2                   & 14                  & 309                 & 480                \\\\\n",
       "\t 49ers               & 2017                & San Francisco 49ers & 1662                & 408                 & 15                  & 14                  & SF                  & Carlos Hyde         & 27                  & ...                 &  938                & 8                   & 2                   & NFC                 & West                & San Francisco 49ers & 6                   & 10                  & 331                 & 383                \\\\\n",
       "\t 49ers               & 2018                & San Francisco 49ers & 1902                & 423                 &  7                  & 31                  & SF                  & Matt Breida         & 23                  & ...                 &  814                & 3                   & 1                   & NFC                 & West                & San Francisco 49ers & 4                   & 12                  & 342                 & 435                \\\\\n",
       "\t Bears               & 2014                & Chicago Bears       & 1441                & 355                 &  8                  & 19                  & CHI                 & Matt Forte          & 29                  & ...                 & 1038                & 6                   & 2                   & NFC                 & North               & Chicago Bears       & 5                   & 11                  & 319                 & 442                \\\\\n",
       "\\end{tabular}\n"
      ],
      "text/markdown": [
       "\n",
       "Mascot | Year | Team | TeamYds | TeamAtt | TeamTD | TeamFmb | Abbv | Player | Age | ... | PlayerYds | PlayerTD | PlayerFmb | Conference | Division | Tm | W | L | PF | PA | \n",
       "|---|---|---|---|---|---|\n",
       "| 49ers               | 2014                | San Francisco 49ers | 2176                | 470                 | 10                  | 18                  | SF                  | Frank Gore          | 31                  | ...                 | 1106                | 4                   | 2                   | NFC                 | West                | San Francisco 49ers | 8                   |  8                  | 306                 | 340                 | \n",
       "| 49ers               | 2015                | San Francisco 49ers | 1544                | 390                 |  7                  | 21                  | SF                  | Carlos Hyde         | 25                  | ...                 |  470                | 3                   | 1                   | NFC                 | West                | San Francisco 49ers | 5                   | 11                  | 238                 | 387                 | \n",
       "| 49ers               | 2016                | San Francisco 49ers | 2019                | 458                 | 15                  | 29                  | SF                  | Carlos Hyde         | 26                  | ...                 |  988                | 6                   | 5                   | NFC                 | West                | San Francisco 49ers | 2                   | 14                  | 309                 | 480                 | \n",
       "| 49ers               | 2017                | San Francisco 49ers | 1662                | 408                 | 15                  | 14                  | SF                  | Carlos Hyde         | 27                  | ...                 |  938                | 8                   | 2                   | NFC                 | West                | San Francisco 49ers | 6                   | 10                  | 331                 | 383                 | \n",
       "| 49ers               | 2018                | San Francisco 49ers | 1902                | 423                 |  7                  | 31                  | SF                  | Matt Breida         | 23                  | ...                 |  814                | 3                   | 1                   | NFC                 | West                | San Francisco 49ers | 4                   | 12                  | 342                 | 435                 | \n",
       "| Bears               | 2014                | Chicago Bears       | 1441                | 355                 |  8                  | 19                  | CHI                 | Matt Forte          | 29                  | ...                 | 1038                | 6                   | 2                   | NFC                 | North               | Chicago Bears       | 5                   | 11                  | 319                 | 442                 | \n",
       "\n",
       "\n"
      ],
      "text/plain": [
       "  Mascot Year Team                TeamYds TeamAtt TeamTD TeamFmb Abbv\n",
       "1 49ers  2014 San Francisco 49ers 2176    470     10     18      SF  \n",
       "2 49ers  2015 San Francisco 49ers 1544    390      7     21      SF  \n",
       "3 49ers  2016 San Francisco 49ers 2019    458     15     29      SF  \n",
       "4 49ers  2017 San Francisco 49ers 1662    408     15     14      SF  \n",
       "5 49ers  2018 San Francisco 49ers 1902    423      7     31      SF  \n",
       "6 Bears  2014 Chicago Bears       1441    355      8     19      CHI \n",
       "  Player      Age ... PlayerYds PlayerTD PlayerFmb Conference Division\n",
       "1 Frank Gore  31  ... 1106      4        2         NFC        West    \n",
       "2 Carlos Hyde 25  ...  470      3        1         NFC        West    \n",
       "3 Carlos Hyde 26  ...  988      6        5         NFC        West    \n",
       "4 Carlos Hyde 27  ...  938      8        2         NFC        West    \n",
       "5 Matt Breida 23  ...  814      3        1         NFC        West    \n",
       "6 Matt Forte  29  ... 1038      6        2         NFC        North   \n",
       "  Tm                  W L  PF  PA \n",
       "1 San Francisco 49ers 8  8 306 340\n",
       "2 San Francisco 49ers 5 11 238 387\n",
       "3 San Francisco 49ers 2 14 309 480\n",
       "4 San Francisco 49ers 6 10 331 383\n",
       "5 San Francisco 49ers 4 12 342 435\n",
       "6 Chicago Bears       5 11 319 442"
      ]
     },
     "metadata": {},
     "output_type": "display_data"
    },
    {
     "data": {
      "text/html": [
       "160"
      ],
      "text/latex": [
       "160"
      ],
      "text/markdown": [
       "160"
      ],
      "text/plain": [
       "[1] 160"
      ]
     },
     "metadata": {},
     "output_type": "display_data"
    }
   ],
   "source": [
    "rushing <- merge(rushing, wins, by.x = c('Mascot', 'Year'), by.y = c('masc', 'year'))\n",
    "head(rushing)\n",
    "nrow(rushing)"
   ]
  },
  {
   "cell_type": "code",
   "execution_count": 25,
   "metadata": {},
   "outputs": [],
   "source": [
    "rushing %>%\n",
    "mutate(PlayerYdsPerc = PlayerYds/TeamYds,\n",
    "      PlayerAttPerc = PlayerAtt/TeamAtt) ->rushing"
   ]
  },
  {
   "cell_type": "code",
   "execution_count": 26,
   "metadata": {},
   "outputs": [
    {
     "data": {
      "text/html": [
       "<table>\n",
       "<thead><tr><th scope=col>Mascot</th><th scope=col>Year</th><th scope=col>Team</th><th scope=col>TeamYds</th><th scope=col>TeamAtt</th><th scope=col>TeamTD</th><th scope=col>TeamFmb</th><th scope=col>Abbv</th><th scope=col>Player</th><th scope=col>Age</th><th scope=col>...</th><th scope=col>PlayerFmb</th><th scope=col>Conference</th><th scope=col>Division</th><th scope=col>Tm</th><th scope=col>W</th><th scope=col>L</th><th scope=col>PF</th><th scope=col>PA</th><th scope=col>PlayerYdsPerc</th><th scope=col>PlayerAttPerc</th></tr></thead>\n",
       "<tbody>\n",
       "\t<tr><td>49ers              </td><td>2014               </td><td>San Francisco 49ers</td><td>2176               </td><td>470                </td><td>10                 </td><td>18                 </td><td>SF                 </td><td>Frank Gore         </td><td>31                 </td><td>...                </td><td>2                  </td><td>NFC                </td><td>West               </td><td>San Francisco 49ers</td><td>8                  </td><td> 8                 </td><td>306                </td><td>340                </td><td>0.5082721          </td><td>0.5425532          </td></tr>\n",
       "\t<tr><td>49ers              </td><td>2015               </td><td>San Francisco 49ers</td><td>1544               </td><td>390                </td><td> 7                 </td><td>21                 </td><td>SF                 </td><td>Carlos Hyde        </td><td>25                 </td><td>...                </td><td>1                  </td><td>NFC                </td><td>West               </td><td>San Francisco 49ers</td><td>5                  </td><td>11                 </td><td>238                </td><td>387                </td><td>0.3044041          </td><td>0.2948718          </td></tr>\n",
       "\t<tr><td>49ers              </td><td>2016               </td><td>San Francisco 49ers</td><td>2019               </td><td>458                </td><td>15                 </td><td>29                 </td><td>SF                 </td><td>Carlos Hyde        </td><td>26                 </td><td>...                </td><td>5                  </td><td>NFC                </td><td>West               </td><td>San Francisco 49ers</td><td>2                  </td><td>14                 </td><td>309                </td><td>480                </td><td>0.4893512          </td><td>0.4737991          </td></tr>\n",
       "\t<tr><td>49ers              </td><td>2017               </td><td>San Francisco 49ers</td><td>1662               </td><td>408                </td><td>15                 </td><td>14                 </td><td>SF                 </td><td>Carlos Hyde        </td><td>27                 </td><td>...                </td><td>2                  </td><td>NFC                </td><td>West               </td><td>San Francisco 49ers</td><td>6                  </td><td>10                 </td><td>331                </td><td>383                </td><td>0.5643803          </td><td>0.5882353          </td></tr>\n",
       "\t<tr><td>49ers              </td><td>2018               </td><td>San Francisco 49ers</td><td>1902               </td><td>423                </td><td> 7                 </td><td>31                 </td><td>SF                 </td><td>Matt Breida        </td><td>23                 </td><td>...                </td><td>1                  </td><td>NFC                </td><td>West               </td><td>San Francisco 49ers</td><td>4                  </td><td>12                 </td><td>342                </td><td>435                </td><td>0.4279706          </td><td>0.3617021          </td></tr>\n",
       "\t<tr><td>Bears              </td><td>2014               </td><td>Chicago Bears      </td><td>1441               </td><td>355                </td><td> 8                 </td><td>19                 </td><td>CHI                </td><td>Matt Forte         </td><td>29                 </td><td>...                </td><td>2                  </td><td>NFC                </td><td>North              </td><td>Chicago Bears      </td><td>5                  </td><td>11                 </td><td>319                </td><td>442                </td><td>0.7203331          </td><td>0.7492958          </td></tr>\n",
       "</tbody>\n",
       "</table>\n"
      ],
      "text/latex": [
       "\\begin{tabular}{r|lllllllllllllllllllllllll}\n",
       " Mascot & Year & Team & TeamYds & TeamAtt & TeamTD & TeamFmb & Abbv & Player & Age & ... & PlayerFmb & Conference & Division & Tm & W & L & PF & PA & PlayerYdsPerc & PlayerAttPerc\\\\\n",
       "\\hline\n",
       "\t 49ers               & 2014                & San Francisco 49ers & 2176                & 470                 & 10                  & 18                  & SF                  & Frank Gore          & 31                  & ...                 & 2                   & NFC                 & West                & San Francisco 49ers & 8                   &  8                  & 306                 & 340                 & 0.5082721           & 0.5425532          \\\\\n",
       "\t 49ers               & 2015                & San Francisco 49ers & 1544                & 390                 &  7                  & 21                  & SF                  & Carlos Hyde         & 25                  & ...                 & 1                   & NFC                 & West                & San Francisco 49ers & 5                   & 11                  & 238                 & 387                 & 0.3044041           & 0.2948718          \\\\\n",
       "\t 49ers               & 2016                & San Francisco 49ers & 2019                & 458                 & 15                  & 29                  & SF                  & Carlos Hyde         & 26                  & ...                 & 5                   & NFC                 & West                & San Francisco 49ers & 2                   & 14                  & 309                 & 480                 & 0.4893512           & 0.4737991          \\\\\n",
       "\t 49ers               & 2017                & San Francisco 49ers & 1662                & 408                 & 15                  & 14                  & SF                  & Carlos Hyde         & 27                  & ...                 & 2                   & NFC                 & West                & San Francisco 49ers & 6                   & 10                  & 331                 & 383                 & 0.5643803           & 0.5882353          \\\\\n",
       "\t 49ers               & 2018                & San Francisco 49ers & 1902                & 423                 &  7                  & 31                  & SF                  & Matt Breida         & 23                  & ...                 & 1                   & NFC                 & West                & San Francisco 49ers & 4                   & 12                  & 342                 & 435                 & 0.4279706           & 0.3617021          \\\\\n",
       "\t Bears               & 2014                & Chicago Bears       & 1441                & 355                 &  8                  & 19                  & CHI                 & Matt Forte          & 29                  & ...                 & 2                   & NFC                 & North               & Chicago Bears       & 5                   & 11                  & 319                 & 442                 & 0.7203331           & 0.7492958          \\\\\n",
       "\\end{tabular}\n"
      ],
      "text/markdown": [
       "\n",
       "Mascot | Year | Team | TeamYds | TeamAtt | TeamTD | TeamFmb | Abbv | Player | Age | ... | PlayerFmb | Conference | Division | Tm | W | L | PF | PA | PlayerYdsPerc | PlayerAttPerc | \n",
       "|---|---|---|---|---|---|\n",
       "| 49ers               | 2014                | San Francisco 49ers | 2176                | 470                 | 10                  | 18                  | SF                  | Frank Gore          | 31                  | ...                 | 2                   | NFC                 | West                | San Francisco 49ers | 8                   |  8                  | 306                 | 340                 | 0.5082721           | 0.5425532           | \n",
       "| 49ers               | 2015                | San Francisco 49ers | 1544                | 390                 |  7                  | 21                  | SF                  | Carlos Hyde         | 25                  | ...                 | 1                   | NFC                 | West                | San Francisco 49ers | 5                   | 11                  | 238                 | 387                 | 0.3044041           | 0.2948718           | \n",
       "| 49ers               | 2016                | San Francisco 49ers | 2019                | 458                 | 15                  | 29                  | SF                  | Carlos Hyde         | 26                  | ...                 | 5                   | NFC                 | West                | San Francisco 49ers | 2                   | 14                  | 309                 | 480                 | 0.4893512           | 0.4737991           | \n",
       "| 49ers               | 2017                | San Francisco 49ers | 1662                | 408                 | 15                  | 14                  | SF                  | Carlos Hyde         | 27                  | ...                 | 2                   | NFC                 | West                | San Francisco 49ers | 6                   | 10                  | 331                 | 383                 | 0.5643803           | 0.5882353           | \n",
       "| 49ers               | 2018                | San Francisco 49ers | 1902                | 423                 |  7                  | 31                  | SF                  | Matt Breida         | 23                  | ...                 | 1                   | NFC                 | West                | San Francisco 49ers | 4                   | 12                  | 342                 | 435                 | 0.4279706           | 0.3617021           | \n",
       "| Bears               | 2014                | Chicago Bears       | 1441                | 355                 |  8                  | 19                  | CHI                 | Matt Forte          | 29                  | ...                 | 2                   | NFC                 | North               | Chicago Bears       | 5                   | 11                  | 319                 | 442                 | 0.7203331           | 0.7492958           | \n",
       "\n",
       "\n"
      ],
      "text/plain": [
       "  Mascot Year Team                TeamYds TeamAtt TeamTD TeamFmb Abbv\n",
       "1 49ers  2014 San Francisco 49ers 2176    470     10     18      SF  \n",
       "2 49ers  2015 San Francisco 49ers 1544    390      7     21      SF  \n",
       "3 49ers  2016 San Francisco 49ers 2019    458     15     29      SF  \n",
       "4 49ers  2017 San Francisco 49ers 1662    408     15     14      SF  \n",
       "5 49ers  2018 San Francisco 49ers 1902    423      7     31      SF  \n",
       "6 Bears  2014 Chicago Bears       1441    355      8     19      CHI \n",
       "  Player      Age ... PlayerFmb Conference Division Tm                  W L \n",
       "1 Frank Gore  31  ... 2         NFC        West     San Francisco 49ers 8  8\n",
       "2 Carlos Hyde 25  ... 1         NFC        West     San Francisco 49ers 5 11\n",
       "3 Carlos Hyde 26  ... 5         NFC        West     San Francisco 49ers 2 14\n",
       "4 Carlos Hyde 27  ... 2         NFC        West     San Francisco 49ers 6 10\n",
       "5 Matt Breida 23  ... 1         NFC        West     San Francisco 49ers 4 12\n",
       "6 Matt Forte  29  ... 2         NFC        North    Chicago Bears       5 11\n",
       "  PF  PA  PlayerYdsPerc PlayerAttPerc\n",
       "1 306 340 0.5082721     0.5425532    \n",
       "2 238 387 0.3044041     0.2948718    \n",
       "3 309 480 0.4893512     0.4737991    \n",
       "4 331 383 0.5643803     0.5882353    \n",
       "5 342 435 0.4279706     0.3617021    \n",
       "6 319 442 0.7203331     0.7492958    "
      ]
     },
     "metadata": {},
     "output_type": "display_data"
    }
   ],
   "source": [
    "head(rushing)"
   ]
  },
  {
   "cell_type": "code",
   "execution_count": 27,
   "metadata": {},
   "outputs": [
    {
     "data": {
      "text/html": [
       "<table>\n",
       "<thead><tr><th scope=col>Year</th><th scope=col>n</th></tr></thead>\n",
       "<tbody>\n",
       "\t<tr><td>2014</td><td>32  </td></tr>\n",
       "\t<tr><td>2015</td><td>32  </td></tr>\n",
       "\t<tr><td>2016</td><td>32  </td></tr>\n",
       "\t<tr><td>2017</td><td>32  </td></tr>\n",
       "\t<tr><td>2018</td><td>32  </td></tr>\n",
       "</tbody>\n",
       "</table>\n"
      ],
      "text/latex": [
       "\\begin{tabular}{r|ll}\n",
       " Year & n\\\\\n",
       "\\hline\n",
       "\t 2014 & 32  \\\\\n",
       "\t 2015 & 32  \\\\\n",
       "\t 2016 & 32  \\\\\n",
       "\t 2017 & 32  \\\\\n",
       "\t 2018 & 32  \\\\\n",
       "\\end{tabular}\n"
      ],
      "text/markdown": [
       "\n",
       "Year | n | \n",
       "|---|---|---|---|---|\n",
       "| 2014 | 32   | \n",
       "| 2015 | 32   | \n",
       "| 2016 | 32   | \n",
       "| 2017 | 32   | \n",
       "| 2018 | 32   | \n",
       "\n",
       "\n"
      ],
      "text/plain": [
       "  Year n \n",
       "1 2014 32\n",
       "2 2015 32\n",
       "3 2016 32\n",
       "4 2017 32\n",
       "5 2018 32"
      ]
     },
     "metadata": {},
     "output_type": "display_data"
    }
   ],
   "source": [
    "\n",
    "rushing %>%\n",
    "group_by(Year) %>%\n",
    "summarise(n = n())"
   ]
  },
  {
   "cell_type": "code",
   "execution_count": 28,
   "metadata": {},
   "outputs": [
    {
     "data": {
      "text/plain": [
       "    Mascot               Year                     Team        TeamYds    \n",
       " Length:160         Min.   :2014   Arizona Cardinals:  5   Min.   :1205  \n",
       " Class :character   1st Qu.:2015   Atlanta Falcons  :  5   1st Qu.:1563  \n",
       " Mode  :character   Median :2016   Baltimore Ravens :  5   Median :1736  \n",
       "                    Mean   :2016   Buffalo Bills    :  5   Mean   :1770  \n",
       "                    3rd Qu.:2017   Carolina Panthers:  5   3rd Qu.:1924  \n",
       "                    Max.   :2018   Chicago Bears    :  5   Max.   :2762  \n",
       "                                   (Other)          :130                 \n",
       "    TeamAtt          TeamTD         TeamFmb          Abbv          \n",
       " Min.   :333.0   Min.   : 4.00   Min.   : 8.00   Length:160        \n",
       " 1st Qu.:389.8   1st Qu.: 9.00   1st Qu.:17.00   Class :character  \n",
       " Median :412.5   Median :12.00   Median :20.00   Mode  :character  \n",
       " Mean   :422.0   Mean   :12.54   Mean   :20.43                     \n",
       " 3rd Qu.:454.2   3rd Qu.:16.00   3rd Qu.:24.00                     \n",
       " Max.   :551.0   Max.   :29.00   Max.   :33.00                     \n",
       "                                                                   \n",
       "            Player         Age             Pos            G        \n",
       " Frank Gore    :  5   Min.   :21.00   RB     :132   Min.   : 7.00  \n",
       " Lamar Miller  :  5   1st Qu.:23.00   rb     : 22   1st Qu.:13.00  \n",
       " Isaiah Crowell:  4   Median :24.50   QB     :  3   Median :15.00  \n",
       " LeSean McCoy  :  4   Mean   :25.36   rb/wr  :  2   Mean   :14.44  \n",
       " Mark Ingram   :  4   3rd Qu.:27.00   fb/RB  :  1   3rd Qu.:16.00  \n",
       " Melvin Gordon :  4   Max.   :35.00          :  0   Max.   :16.00  \n",
       " (Other)       :134                   (Other):  0                  \n",
       "   PlayerAtt       PlayerYds         PlayerTD      PlayerFmb     \n",
       " Min.   : 77.0   Min.   : 349.0   Min.   : 0.0   Min.   : 0.000  \n",
       " 1st Qu.:165.8   1st Qu.: 694.8   1st Qu.: 3.0   1st Qu.: 1.000  \n",
       " Median :201.5   Median : 864.0   Median : 6.0   Median : 2.000  \n",
       " Mean   :204.6   Mean   : 881.6   Mean   : 6.2   Mean   : 2.219  \n",
       " 3rd Qu.:246.2   3rd Qu.:1060.8   3rd Qu.: 8.0   3rd Qu.: 3.000  \n",
       " Max.   :392.0   Max.   :1845.0   Max.   :18.0   Max.   :14.000  \n",
       "                                                                 \n",
       "  Conference          Division                         Tm            W         \n",
       " Length:160         Length:160         Arizona Cardinals:  5   Min.   : 0.000  \n",
       " Class :character   Class :character   Atlanta Falcons  :  5   1st Qu.: 6.000  \n",
       " Mode  :character   Mode  :character   Baltimore Ravens :  5   Median : 8.000  \n",
       "                                       Buffalo Bills    :  5   Mean   : 7.969  \n",
       "                                       Carolina Panthers:  5   3rd Qu.:10.000  \n",
       "                                       Chicago Bears    :  5   Max.   :15.000  \n",
       "                                       (Other)          :130                   \n",
       "       L                PF              PA        PlayerYdsPerc   \n",
       " Min.   : 1.000   Min.   :224.0   Min.   :250.0   Min.   :0.2194  \n",
       " 1st Qu.: 6.000   1st Qu.:318.8   1st Qu.:319.8   1st Qu.:0.4153  \n",
       " Median : 8.000   Median :359.0   Median :360.5   Median :0.4805  \n",
       " Mean   : 7.969   Mean   :362.4   Mean   :362.4   Mean   :0.4970  \n",
       " 3rd Qu.:10.000   3rd Qu.:409.2   3rd Qu.:400.0   3rd Qu.:0.5763  \n",
       " Max.   :16.000   Max.   :565.0   Max.   :480.0   Max.   :0.7921  \n",
       "                                                                  \n",
       " PlayerAttPerc   \n",
       " Min.   :0.1902  \n",
       " 1st Qu.:0.4020  \n",
       " Median :0.4730  \n",
       " Mean   :0.4854  \n",
       " 3rd Qu.:0.5633  \n",
       " Max.   :0.7717  \n",
       "                 "
      ]
     },
     "metadata": {},
     "output_type": "display_data"
    }
   ],
   "source": [
    "summary(rushing)"
   ]
  },
  {
   "cell_type": "code",
   "execution_count": 41,
   "metadata": {},
   "outputs": [],
   "source": [
    "write.csv(rushing, 'Data/RushingCSV.csv')"
   ]
  },
  {
   "cell_type": "code",
   "execution_count": 29,
   "metadata": {},
   "outputs": [
    {
     "data": {
      "text/plain": [
       "\n",
       "Call:\n",
       "lm(formula = W ~ TeamYds, data = rushing)\n",
       "\n",
       "Residuals:\n",
       "    Min      1Q  Median      3Q     Max \n",
       "-7.7430 -1.9355  0.0524  2.0653  5.6244 \n",
       "\n",
       "Coefficients:\n",
       "             Estimate Std. Error t value Pr(>|t|)    \n",
       "(Intercept) 0.8806659  1.3754644   0.640    0.523    \n",
       "TeamYds     0.0040037  0.0007665   5.223 5.47e-07 ***\n",
       "---\n",
       "Signif. codes:  0 '***' 0.001 '**' 0.01 '*' 0.05 '.' 0.1 ' ' 1\n",
       "\n",
       "Residual standard error: 2.84 on 158 degrees of freedom\n",
       "Multiple R-squared:  0.1473,\tAdjusted R-squared:  0.1419 \n",
       "F-statistic: 27.28 on 1 and 158 DF,  p-value: 5.474e-07\n"
      ]
     },
     "metadata": {},
     "output_type": "display_data"
    }
   ],
   "source": [
    "summary(lm(W ~ TeamYds, data = rushing))"
   ]
  },
  {
   "cell_type": "code",
   "execution_count": 30,
   "metadata": {},
   "outputs": [
    {
     "data": {},
     "metadata": {},
     "output_type": "display_data"
    },
    {
     "data": {
      "image/png": "[encoded data removed]",
      "text/plain": [
       "plot without title"
      ]
     },
     "metadata": {},
     "output_type": "display_data"
    }
   ],
   "source": [
    "rushing %>%\n",
    "ggplot(aes(x = TeamYds, y = W)) +\n",
    "geom_point() +\n",
    "geom_smooth(method = 'lm')"
   ]
  },
  {
   "cell_type": "code",
   "execution_count": 31,
   "metadata": {},
   "outputs": [
    {
     "data": {
      "text/plain": [
       "\n",
       "Call:\n",
       "lm(formula = W ~ PlayerYds, data = rushing)\n",
       "\n",
       "Residuals:\n",
       "    Min      1Q  Median      3Q     Max \n",
       "-7.8886 -1.9783 -0.0305  2.0425  6.7295 \n",
       "\n",
       "Coefficients:\n",
       "             Estimate Std. Error t value Pr(>|t|)    \n",
       "(Intercept) 5.4929231  0.8055973   6.818 1.84e-10 ***\n",
       "PlayerYds   0.0028085  0.0008739   3.214  0.00159 ** \n",
       "---\n",
       "Signif. codes:  0 '***' 0.001 '**' 0.01 '*' 0.05 '.' 0.1 ' ' 1\n",
       "\n",
       "Residual standard error: 2.98 on 158 degrees of freedom\n",
       "Multiple R-squared:  0.06136,\tAdjusted R-squared:  0.05542 \n",
       "F-statistic: 10.33 on 1 and 158 DF,  p-value: 0.001588\n"
      ]
     },
     "metadata": {},
     "output_type": "display_data"
    }
   ],
   "source": [
    "summary(lm(W~PlayerYds, data = rushing))"
   ]
  },
  {
   "cell_type": "code",
   "execution_count": 35,
   "metadata": {},
   "outputs": [
    {
     "data": {},
     "metadata": {},
     "output_type": "display_data"
    },
    {
     "data": {
      "image/png": "[encoded data removed]",
      "text/plain": [
       "plot without title"
      ]
     },
     "metadata": {},
     "output_type": "display_data"
    }
   ],
   "source": [
    "rushing$YearMascot <- paste(as.character(rushing$Year), rushing$Mascot)\n",
    "rushing %>%\n",
    "ggplot(aes(x = PlayerYds, y = W)) +\n",
    "geom_point() +\n",
    "geom_smooth(method = 'lm') +\n",
    "geom_text_repel(data = subset(rushing, PlayerYdsPerc > .65),aes(label= YearMascot))"
   ]
  },
  {
   "cell_type": "code",
   "execution_count": 36,
   "metadata": {},
   "outputs": [
    {
     "data": {
      "text/plain": [
       "\n",
       "Call:\n",
       "lm(formula = W ~ PlayerYdsPerc, data = rushing)\n",
       "\n",
       "Residuals:\n",
       "   Min     1Q Median     3Q    Max \n",
       "-7.969 -2.037  0.050  2.177  7.093 \n",
       "\n",
       "Coefficients:\n",
       "              Estimate Std. Error t value Pr(>|t|)    \n",
       "(Intercept)     7.4827     0.9914   7.547 3.31e-12 ***\n",
       "PlayerYdsPerc   0.9781     1.9342   0.506    0.614    \n",
       "---\n",
       "Signif. codes:  0 '***' 0.001 '**' 0.01 '*' 0.05 '.' 0.1 ' ' 1\n",
       "\n",
       "Residual standard error: 3.073 on 158 degrees of freedom\n",
       "Multiple R-squared:  0.001616,\tAdjusted R-squared:  -0.004703 \n",
       "F-statistic: 0.2557 on 1 and 158 DF,  p-value: 0.6138\n"
      ]
     },
     "metadata": {},
     "output_type": "display_data"
    }
   ],
   "source": [
    "summary(lm(W ~ PlayerYdsPerc, data = rushing))"
   ]
  },
  {
   "cell_type": "code",
   "execution_count": 37,
   "metadata": {},
   "outputs": [
    {
     "data": {
      "text/html": [
       "<ol class=list-inline>\n",
       "\t<li>'Mascot'</li>\n",
       "\t<li>'Year'</li>\n",
       "\t<li>'Team'</li>\n",
       "\t<li>'TeamYds'</li>\n",
       "\t<li>'TeamAtt'</li>\n",
       "\t<li>'TeamTD'</li>\n",
       "\t<li>'TeamFmb'</li>\n",
       "\t<li>'Abbv'</li>\n",
       "\t<li>'Player'</li>\n",
       "\t<li>'Age'</li>\n",
       "\t<li>'Pos'</li>\n",
       "\t<li>'G'</li>\n",
       "\t<li>'PlayerAtt'</li>\n",
       "\t<li>'PlayerYds'</li>\n",
       "\t<li>'PlayerTD'</li>\n",
       "\t<li>'PlayerFmb'</li>\n",
       "\t<li>'Conference'</li>\n",
       "\t<li>'Division'</li>\n",
       "\t<li>'Tm'</li>\n",
       "\t<li>'W'</li>\n",
       "\t<li>'L'</li>\n",
       "\t<li>'PF'</li>\n",
       "\t<li>'PA'</li>\n",
       "\t<li>'PlayerYdsPerc'</li>\n",
       "\t<li>'PlayerAttPerc'</li>\n",
       "\t<li>'YearMascot'</li>\n",
       "</ol>\n"
      ],
      "text/latex": [
       "\\begin{enumerate*}\n",
       "\\item 'Mascot'\n",
       "\\item 'Year'\n",
       "\\item 'Team'\n",
       "\\item 'TeamYds'\n",
       "\\item 'TeamAtt'\n",
       "\\item 'TeamTD'\n",
       "\\item 'TeamFmb'\n",
       "\\item 'Abbv'\n",
       "\\item 'Player'\n",
       "\\item 'Age'\n",
       "\\item 'Pos'\n",
       "\\item 'G'\n",
       "\\item 'PlayerAtt'\n",
       "\\item 'PlayerYds'\n",
       "\\item 'PlayerTD'\n",
       "\\item 'PlayerFmb'\n",
       "\\item 'Conference'\n",
       "\\item 'Division'\n",
       "\\item 'Tm'\n",
       "\\item 'W'\n",
       "\\item 'L'\n",
       "\\item 'PF'\n",
       "\\item 'PA'\n",
       "\\item 'PlayerYdsPerc'\n",
       "\\item 'PlayerAttPerc'\n",
       "\\item 'YearMascot'\n",
       "\\end{enumerate*}\n"
      ],
      "text/markdown": [
       "1. 'Mascot'\n",
       "2. 'Year'\n",
       "3. 'Team'\n",
       "4. 'TeamYds'\n",
       "5. 'TeamAtt'\n",
       "6. 'TeamTD'\n",
       "7. 'TeamFmb'\n",
       "8. 'Abbv'\n",
       "9. 'Player'\n",
       "10. 'Age'\n",
       "11. 'Pos'\n",
       "12. 'G'\n",
       "13. 'PlayerAtt'\n",
       "14. 'PlayerYds'\n",
       "15. 'PlayerTD'\n",
       "16. 'PlayerFmb'\n",
       "17. 'Conference'\n",
       "18. 'Division'\n",
       "19. 'Tm'\n",
       "20. 'W'\n",
       "21. 'L'\n",
       "22. 'PF'\n",
       "23. 'PA'\n",
       "24. 'PlayerYdsPerc'\n",
       "25. 'PlayerAttPerc'\n",
       "26. 'YearMascot'\n",
       "\n",
       "\n"
      ],
      "text/plain": [
       " [1] \"Mascot\"        \"Year\"          \"Team\"          \"TeamYds\"      \n",
       " [5] \"TeamAtt\"       \"TeamTD\"        \"TeamFmb\"       \"Abbv\"         \n",
       " [9] \"Player\"        \"Age\"           \"Pos\"           \"G\"            \n",
       "[13] \"PlayerAtt\"     \"PlayerYds\"     \"PlayerTD\"      \"PlayerFmb\"    \n",
       "[17] \"Conference\"    \"Division\"      \"Tm\"            \"W\"            \n",
       "[21] \"L\"             \"PF\"            \"PA\"            \"PlayerYdsPerc\"\n",
       "[25] \"PlayerAttPerc\" \"YearMascot\"   "
      ]
     },
     "metadata": {},
     "output_type": "display_data"
    }
   ],
   "source": [
    "names(rushing)\n"
   ]
  },
  {
   "cell_type": "code",
   "execution_count": 38,
   "metadata": {},
   "outputs": [
    {
     "data": {
      "text/html": [
       "<table>\n",
       "<thead><tr><th scope=col>Mascot</th><th scope=col>Year</th><th scope=col>Team</th><th scope=col>TeamYds</th><th scope=col>TeamAtt</th><th scope=col>TeamTD</th><th scope=col>TeamFmb</th><th scope=col>Abbv</th><th scope=col>Player</th><th scope=col>Age</th><th scope=col>...</th><th scope=col>Conference</th><th scope=col>Division</th><th scope=col>Tm</th><th scope=col>W</th><th scope=col>L</th><th scope=col>PF</th><th scope=col>PA</th><th scope=col>PlayerYdsPerc</th><th scope=col>PlayerAttPerc</th><th scope=col>YearMascot</th></tr></thead>\n",
       "<tbody>\n",
       "\t<tr><td>Bears               </td><td>2016                </td><td>Chicago Bears       </td><td>1735                </td><td>380                 </td><td>10                  </td><td>26                  </td><td>CHI                 </td><td>Jordan Howard       </td><td>22                  </td><td>...                 </td><td>NFC                 </td><td>North               </td><td>Chicago Bears       </td><td> 3                  </td><td>13                  </td><td>279                 </td><td>399                 </td><td>0.7567723           </td><td>0.6631579           </td><td>2016 Bears          </td></tr>\n",
       "\t<tr><td>Bengals             </td><td>2018                </td><td>Cincinnati Bengals  </td><td>1682                </td><td>359                 </td><td>13                  </td><td>11                  </td><td>CIN                 </td><td>Joe Mixon           </td><td>22                  </td><td>...                 </td><td>AFC                 </td><td>North               </td><td>Cincinnati Bengals  </td><td> 6                  </td><td>10                  </td><td>368                 </td><td>455                 </td><td>0.6944114           </td><td>0.6601671           </td><td>2018 Bengals        </td></tr>\n",
       "\t<tr><td>Bills               </td><td>2017                </td><td>Buffalo Bills       </td><td>2017                </td><td>487                 </td><td>12                  </td><td>17                  </td><td>BUF                 </td><td>LeSean McCoy        </td><td>29                  </td><td>...                 </td><td>AFC                 </td><td>East                </td><td>Buffalo Bills       </td><td> 9                  </td><td> 7                  </td><td>302                 </td><td>359                 </td><td>0.5642043           </td><td>0.5893224           </td><td>2017 Bills          </td></tr>\n",
       "\t<tr><td>Buccaneers          </td><td>2015                </td><td>Tampa Bay Buccaneers</td><td>2162                </td><td>455                 </td><td>12                  </td><td>26                  </td><td>TB                  </td><td>Doug Martin         </td><td>26                  </td><td>...                 </td><td>NFC                 </td><td>South               </td><td>Tampa Bay Buccaneers</td><td> 6                  </td><td>10                  </td><td>342                 </td><td>417                 </td><td>0.6484736           </td><td>0.6329670           </td><td>2015 Buccaneers     </td></tr>\n",
       "\t<tr><td>Chiefs              </td><td>2017                </td><td>Kansas City Chiefs  </td><td>1903                </td><td>405                 </td><td>12                  </td><td>14                  </td><td>KC                  </td><td>Kareem Hunt         </td><td>22                  </td><td>...                 </td><td>AFC                 </td><td>West                </td><td>Kansas City Chiefs  </td><td>10                  </td><td> 6                  </td><td>415                 </td><td>339                 </td><td>0.6973200           </td><td>0.6716049           </td><td>2017 Chiefs         </td></tr>\n",
       "\t<tr><td>Cowboys             </td><td>2014                </td><td>Dallas Cowboys      </td><td>2354                </td><td>508                 </td><td>16                  </td><td>21                  </td><td>DAL                 </td><td>DeMarco Murray      </td><td>26                  </td><td>...                 </td><td>NFC                 </td><td>East                </td><td>Dallas Cowboys      </td><td>12                  </td><td> 4                  </td><td>467                 </td><td>352                 </td><td>0.7837723           </td><td>0.7716535           </td><td>2014 Cowboys        </td></tr>\n",
       "\t<tr><td>Cowboys             </td><td>2015                </td><td>Dallas Cowboys      </td><td>1890                </td><td>408                 </td><td> 8                  </td><td>18                  </td><td>DAL                 </td><td>Darren McFadden     </td><td>28                  </td><td>...                 </td><td>NFC                 </td><td>East                </td><td>Dallas Cowboys      </td><td> 4                  </td><td>12                  </td><td>275                 </td><td>374                 </td><td>0.5761905           </td><td>0.5857843           </td><td>2015 Cowboys        </td></tr>\n",
       "\t<tr><td>Cowboys             </td><td>2016                </td><td>Dallas Cowboys      </td><td>2396                </td><td>499                 </td><td>24                  </td><td>22                  </td><td>DAL                 </td><td>Ezekiel Elliott     </td><td>21                  </td><td>...                 </td><td>NFC                 </td><td>East                </td><td>Dallas Cowboys      </td><td>13                  </td><td> 3                  </td><td>421                 </td><td>306                 </td><td>0.6807179           </td><td>0.6452906           </td><td>2016 Cowboys        </td></tr>\n",
       "\t<tr><td>Cowboys             </td><td>2018                </td><td>Dallas Cowboys      </td><td>1963                </td><td>439                 </td><td>13                  </td><td>23                  </td><td>DAL                 </td><td>Ezekiel Elliott     </td><td>23                  </td><td>...                 </td><td>NFC                 </td><td>East                </td><td>Dallas Cowboys      </td><td>10                  </td><td> 6                  </td><td>339                 </td><td>324                 </td><td>0.7305145           </td><td>0.6924829           </td><td>2018 Cowboys        </td></tr>\n",
       "\t<tr><td>Dolphins            </td><td>2016                </td><td>Miami Dolphins      </td><td>1824                </td><td>406                 </td><td>14                  </td><td>26                  </td><td>MIA                 </td><td>Jay Ajayi           </td><td>23                  </td><td>...                 </td><td>AFC                 </td><td>East                </td><td>Miami Dolphins      </td><td>10                  </td><td> 6                  </td><td>363                 </td><td>380                 </td><td>0.6973684           </td><td>0.6403941           </td><td>2016 Dolphins       </td></tr>\n",
       "\t<tr><td>Eagles              </td><td>2014                </td><td>Philadelphia Eagles </td><td>1992                </td><td>474                 </td><td>16                  </td><td>25                  </td><td>PHI                 </td><td>LeSean McCoy        </td><td>26                  </td><td>...                 </td><td>NFC                 </td><td>East                </td><td>Philadelphia Eagles </td><td>10                  </td><td> 6                  </td><td>474                 </td><td>400                 </td><td>0.6621486           </td><td>0.6582278           </td><td>2014 Eagles         </td></tr>\n",
       "\t<tr><td>Giants              </td><td>2018                </td><td>New York Giants     </td><td>1650                </td><td>354                 </td><td>13                  </td><td>16                  </td><td>NYG                 </td><td>Saquon Barkley      </td><td>21                  </td><td>...                 </td><td>NFC                 </td><td>East                </td><td>New York Giants     </td><td> 5                  </td><td>11                  </td><td>369                 </td><td>412                 </td><td>0.7921212           </td><td>0.7372881           </td><td>2018 Giants         </td></tr>\n",
       "\t<tr><td>Jets                </td><td>2015                </td><td>New York Jets       </td><td>1868                </td><td>448                 </td><td>11                  </td><td>17                  </td><td>NYJ                 </td><td>Chris Ivory         </td><td>27                  </td><td>...                 </td><td>AFC                 </td><td>East                </td><td>New York Jets       </td><td>10                  </td><td> 6                  </td><td>387                 </td><td>314                 </td><td>0.5728051           </td><td>0.5513393           </td><td>2015 Jets           </td></tr>\n",
       "\t<tr><td>Rams                </td><td>2015                </td><td>St. Louis Rams      </td><td>1956                </td><td>429                 </td><td>16                  </td><td>22                  </td><td>STL                 </td><td>Todd Gurley         </td><td>21                  </td><td>...                 </td><td>NFC                 </td><td>West                </td><td>St. Louis Rams      </td><td> 7                  </td><td> 9                  </td><td>280                 </td><td>330                 </td><td>0.5654397           </td><td>0.5337995           </td><td>2015 Rams           </td></tr>\n",
       "\t<tr><td>Rams                </td><td>2017                </td><td>Los Angeles Rams    </td><td>1953                </td><td>454                 </td><td>17                  </td><td>29                  </td><td>LAR                 </td><td>Todd Gurley         </td><td>23                  </td><td>...                 </td><td>NFC                 </td><td>West                </td><td>Los Angeles Rams    </td><td>11                  </td><td> 5                  </td><td>478                 </td><td>329                 </td><td>0.6682028           </td><td>0.6145374           </td><td>2017 Rams           </td></tr>\n",
       "\t<tr><td>Rams                </td><td>2018                </td><td>Los Angeles Rams    </td><td>2231                </td><td>459                 </td><td>23                  </td><td>17                  </td><td>LAR                 </td><td>Todd Gurley         </td><td>24                  </td><td>...                 </td><td>NFC                 </td><td>West                </td><td>Los Angeles Rams    </td><td>13                  </td><td> 3                  </td><td>527                 </td><td>384                 </td><td>0.5607351           </td><td>0.5577342           </td><td>2018 Rams           </td></tr>\n",
       "\t<tr><td>Ravens              </td><td>2014                </td><td>Baltimore Ravens    </td><td>2019                </td><td>448                 </td><td>16                  </td><td>16                  </td><td>BAL                 </td><td>Justin Forsett      </td><td>29                  </td><td>...                 </td><td>AFC                 </td><td>North               </td><td>Baltimore Ravens    </td><td>10                  </td><td> 6                  </td><td>409                 </td><td>302                 </td><td>0.6270431           </td><td>0.5245536           </td><td>2014 Ravens         </td></tr>\n",
       "\t<tr><td>Saints              </td><td>2017                </td><td>New Orleans Saints  </td><td>2070                </td><td>444                 </td><td>23                  </td><td>19                  </td><td>NO                  </td><td>Mark Ingram         </td><td>28                  </td><td>...                 </td><td>NFC                 </td><td>South               </td><td>New Orleans Saints  </td><td>11                  </td><td> 5                  </td><td>448                 </td><td>326                 </td><td>0.5429952           </td><td>0.5180180           </td><td>2017 Saints         </td></tr>\n",
       "\t<tr><td>Seahawks            </td><td>2014                </td><td>Seattle Seahawks    </td><td>2762                </td><td>525                 </td><td>20                  </td><td>23                  </td><td>SEA                 </td><td>Marshawn Lynch      </td><td>28                  </td><td>...                 </td><td>NFC                 </td><td>West                </td><td>Seattle Seahawks    </td><td>12                  </td><td> 4                  </td><td>394                 </td><td>254                 </td><td>0.4728458           </td><td>0.5333333           </td><td>2014 Seahawks       </td></tr>\n",
       "\t<tr><td>Seahawks            </td><td>2018                </td><td>Seattle Seahawks    </td><td>2560                </td><td>534                 </td><td>15                  </td><td>18                  </td><td>SEA                 </td><td>Chris Carson        </td><td>24                  </td><td>...                 </td><td>NFC                 </td><td>West                </td><td>Seattle Seahawks    </td><td>10                  </td><td> 6                  </td><td>428                 </td><td>347                 </td><td>0.4496094           </td><td>0.4625468           </td><td>2018 Seahawks       </td></tr>\n",
       "\t<tr><td>Steelers            </td><td>2014                </td><td>Pittsburgh Steelers </td><td>1752                </td><td>423                 </td><td>10                  </td><td>16                  </td><td>PIT                 </td><td>Le'Veon Bell        </td><td>22                  </td><td>...                 </td><td>AFC                 </td><td>North               </td><td>Pittsburgh Steelers </td><td>11                  </td><td> 5                  </td><td>436                 </td><td>368                 </td><td>0.7768265           </td><td>0.6855792           </td><td>2014 Steelers       </td></tr>\n",
       "\t<tr><td>Steelers            </td><td>2016                </td><td>Pittsburgh Steelers </td><td>1760                </td><td>409                 </td><td>13                  </td><td>15                  </td><td>PIT                 </td><td>Le'Veon Bell        </td><td>24                  </td><td>...                 </td><td>AFC                 </td><td>North               </td><td>Pittsburgh Steelers </td><td>11                  </td><td> 5                  </td><td>399                 </td><td>327                 </td><td>0.7204545           </td><td>0.6381418           </td><td>2016 Steelers       </td></tr>\n",
       "\t<tr><td>Steelers            </td><td>2017                </td><td>Pittsburgh Steelers </td><td>1667                </td><td>437                 </td><td>12                  </td><td>15                  </td><td>PIT                 </td><td>Le'Veon Bell        </td><td>25                  </td><td>...                 </td><td>AFC                 </td><td>North               </td><td>Pittsburgh Steelers </td><td>13                  </td><td> 3                  </td><td>406                 </td><td>308                 </td><td>0.7744451           </td><td>0.7345538           </td><td>2017 Steelers       </td></tr>\n",
       "\t<tr><td>Titans              </td><td>2016                </td><td>Tennessee Titans    </td><td>2187                </td><td>476                 </td><td>16                  </td><td>16                  </td><td>TEN                 </td><td>DeMarco Murray      </td><td>28                  </td><td>...                 </td><td>AFC                 </td><td>South               </td><td>Tennessee Titans    </td><td> 9                  </td><td> 7                  </td><td>381                 </td><td>378                 </td><td>0.5884774           </td><td>0.6155462           </td><td>2016 Titans         </td></tr>\n",
       "\t<tr><td>Vikings             </td><td>2015                </td><td>Minnesota Vikings   </td><td>2211                </td><td>474                 </td><td>18                  </td><td>21                  </td><td>MIN                 </td><td>Adrian Peterson     </td><td>30                  </td><td>...                 </td><td>NFC                 </td><td>North               </td><td>Minnesota Vikings   </td><td>11                  </td><td> 5                  </td><td>365                 </td><td>302                 </td><td>0.6716418           </td><td>0.6898734           </td><td>2015 Vikings        </td></tr>\n",
       "</tbody>\n",
       "</table>\n"
      ],
      "text/latex": [
       "\\begin{tabular}{r|llllllllllllllllllllllllll}\n",
       " Mascot & Year & Team & TeamYds & TeamAtt & TeamTD & TeamFmb & Abbv & Player & Age & ... & Conference & Division & Tm & W & L & PF & PA & PlayerYdsPerc & PlayerAttPerc & YearMascot\\\\\n",
       "\\hline\n",
       "\t Bears                & 2016                 & Chicago Bears        & 1735                 & 380                  & 10                   & 26                   & CHI                  & Jordan Howard        & 22                   & ...                  & NFC                  & North                & Chicago Bears        &  3                   & 13                   & 279                  & 399                  & 0.7567723            & 0.6631579            & 2016 Bears          \\\\\n",
       "\t Bengals              & 2018                 & Cincinnati Bengals   & 1682                 & 359                  & 13                   & 11                   & CIN                  & Joe Mixon            & 22                   & ...                  & AFC                  & North                & Cincinnati Bengals   &  6                   & 10                   & 368                  & 455                  & 0.6944114            & 0.6601671            & 2018 Bengals        \\\\\n",
       "\t Bills                & 2017                 & Buffalo Bills        & 2017                 & 487                  & 12                   & 17                   & BUF                  & LeSean McCoy         & 29                   & ...                  & AFC                  & East                 & Buffalo Bills        &  9                   &  7                   & 302                  & 359                  & 0.5642043            & 0.5893224            & 2017 Bills          \\\\\n",
       "\t Buccaneers           & 2015                 & Tampa Bay Buccaneers & 2162                 & 455                  & 12                   & 26                   & TB                   & Doug Martin          & 26                   & ...                  & NFC                  & South                & Tampa Bay Buccaneers &  6                   & 10                   & 342                  & 417                  & 0.6484736            & 0.6329670            & 2015 Buccaneers     \\\\\n",
       "\t Chiefs               & 2017                 & Kansas City Chiefs   & 1903                 & 405                  & 12                   & 14                   & KC                   & Kareem Hunt          & 22                   & ...                  & AFC                  & West                 & Kansas City Chiefs   & 10                   &  6                   & 415                  & 339                  & 0.6973200            & 0.6716049            & 2017 Chiefs         \\\\\n",
       "\t Cowboys              & 2014                 & Dallas Cowboys       & 2354                 & 508                  & 16                   & 21                   & DAL                  & DeMarco Murray       & 26                   & ...                  & NFC                  & East                 & Dallas Cowboys       & 12                   &  4                   & 467                  & 352                  & 0.7837723            & 0.7716535            & 2014 Cowboys        \\\\\n",
       "\t Cowboys              & 2015                 & Dallas Cowboys       & 1890                 & 408                  &  8                   & 18                   & DAL                  & Darren McFadden      & 28                   & ...                  & NFC                  & East                 & Dallas Cowboys       &  4                   & 12                   & 275                  & 374                  & 0.5761905            & 0.5857843            & 2015 Cowboys        \\\\\n",
       "\t Cowboys              & 2016                 & Dallas Cowboys       & 2396                 & 499                  & 24                   & 22                   & DAL                  & Ezekiel Elliott      & 21                   & ...                  & NFC                  & East                 & Dallas Cowboys       & 13                   &  3                   & 421                  & 306                  & 0.6807179            & 0.6452906            & 2016 Cowboys        \\\\\n",
       "\t Cowboys              & 2018                 & Dallas Cowboys       & 1963                 & 439                  & 13                   & 23                   & DAL                  & Ezekiel Elliott      & 23                   & ...                  & NFC                  & East                 & Dallas Cowboys       & 10                   &  6                   & 339                  & 324                  & 0.7305145            & 0.6924829            & 2018 Cowboys        \\\\\n",
       "\t Dolphins             & 2016                 & Miami Dolphins       & 1824                 & 406                  & 14                   & 26                   & MIA                  & Jay Ajayi            & 23                   & ...                  & AFC                  & East                 & Miami Dolphins       & 10                   &  6                   & 363                  & 380                  & 0.6973684            & 0.6403941            & 2016 Dolphins       \\\\\n",
       "\t Eagles               & 2014                 & Philadelphia Eagles  & 1992                 & 474                  & 16                   & 25                   & PHI                  & LeSean McCoy         & 26                   & ...                  & NFC                  & East                 & Philadelphia Eagles  & 10                   &  6                   & 474                  & 400                  & 0.6621486            & 0.6582278            & 2014 Eagles         \\\\\n",
       "\t Giants               & 2018                 & New York Giants      & 1650                 & 354                  & 13                   & 16                   & NYG                  & Saquon Barkley       & 21                   & ...                  & NFC                  & East                 & New York Giants      &  5                   & 11                   & 369                  & 412                  & 0.7921212            & 0.7372881            & 2018 Giants         \\\\\n",
       "\t Jets                 & 2015                 & New York Jets        & 1868                 & 448                  & 11                   & 17                   & NYJ                  & Chris Ivory          & 27                   & ...                  & AFC                  & East                 & New York Jets        & 10                   &  6                   & 387                  & 314                  & 0.5728051            & 0.5513393            & 2015 Jets           \\\\\n",
       "\t Rams                 & 2015                 & St. Louis Rams       & 1956                 & 429                  & 16                   & 22                   & STL                  & Todd Gurley          & 21                   & ...                  & NFC                  & West                 & St. Louis Rams       &  7                   &  9                   & 280                  & 330                  & 0.5654397            & 0.5337995            & 2015 Rams           \\\\\n",
       "\t Rams                 & 2017                 & Los Angeles Rams     & 1953                 & 454                  & 17                   & 29                   & LAR                  & Todd Gurley          & 23                   & ...                  & NFC                  & West                 & Los Angeles Rams     & 11                   &  5                   & 478                  & 329                  & 0.6682028            & 0.6145374            & 2017 Rams           \\\\\n",
       "\t Rams                 & 2018                 & Los Angeles Rams     & 2231                 & 459                  & 23                   & 17                   & LAR                  & Todd Gurley          & 24                   & ...                  & NFC                  & West                 & Los Angeles Rams     & 13                   &  3                   & 527                  & 384                  & 0.5607351            & 0.5577342            & 2018 Rams           \\\\\n",
       "\t Ravens               & 2014                 & Baltimore Ravens     & 2019                 & 448                  & 16                   & 16                   & BAL                  & Justin Forsett       & 29                   & ...                  & AFC                  & North                & Baltimore Ravens     & 10                   &  6                   & 409                  & 302                  & 0.6270431            & 0.5245536            & 2014 Ravens         \\\\\n",
       "\t Saints               & 2017                 & New Orleans Saints   & 2070                 & 444                  & 23                   & 19                   & NO                   & Mark Ingram          & 28                   & ...                  & NFC                  & South                & New Orleans Saints   & 11                   &  5                   & 448                  & 326                  & 0.5429952            & 0.5180180            & 2017 Saints         \\\\\n",
       "\t Seahawks             & 2014                 & Seattle Seahawks     & 2762                 & 525                  & 20                   & 23                   & SEA                  & Marshawn Lynch       & 28                   & ...                  & NFC                  & West                 & Seattle Seahawks     & 12                   &  4                   & 394                  & 254                  & 0.4728458            & 0.5333333            & 2014 Seahawks       \\\\\n",
       "\t Seahawks             & 2018                 & Seattle Seahawks     & 2560                 & 534                  & 15                   & 18                   & SEA                  & Chris Carson         & 24                   & ...                  & NFC                  & West                 & Seattle Seahawks     & 10                   &  6                   & 428                  & 347                  & 0.4496094            & 0.4625468            & 2018 Seahawks       \\\\\n",
       "\t Steelers             & 2014                 & Pittsburgh Steelers  & 1752                 & 423                  & 10                   & 16                   & PIT                  & Le'Veon Bell         & 22                   & ...                  & AFC                  & North                & Pittsburgh Steelers  & 11                   &  5                   & 436                  & 368                  & 0.7768265            & 0.6855792            & 2014 Steelers       \\\\\n",
       "\t Steelers             & 2016                 & Pittsburgh Steelers  & 1760                 & 409                  & 13                   & 15                   & PIT                  & Le'Veon Bell         & 24                   & ...                  & AFC                  & North                & Pittsburgh Steelers  & 11                   &  5                   & 399                  & 327                  & 0.7204545            & 0.6381418            & 2016 Steelers       \\\\\n",
       "\t Steelers             & 2017                 & Pittsburgh Steelers  & 1667                 & 437                  & 12                   & 15                   & PIT                  & Le'Veon Bell         & 25                   & ...                  & AFC                  & North                & Pittsburgh Steelers  & 13                   &  3                   & 406                  & 308                  & 0.7744451            & 0.7345538            & 2017 Steelers       \\\\\n",
       "\t Titans               & 2016                 & Tennessee Titans     & 2187                 & 476                  & 16                   & 16                   & TEN                  & DeMarco Murray       & 28                   & ...                  & AFC                  & South                & Tennessee Titans     &  9                   &  7                   & 381                  & 378                  & 0.5884774            & 0.6155462            & 2016 Titans         \\\\\n",
       "\t Vikings              & 2015                 & Minnesota Vikings    & 2211                 & 474                  & 18                   & 21                   & MIN                  & Adrian Peterson      & 30                   & ...                  & NFC                  & North                & Minnesota Vikings    & 11                   &  5                   & 365                  & 302                  & 0.6716418            & 0.6898734            & 2015 Vikings        \\\\\n",
       "\\end{tabular}\n"
      ],
      "text/markdown": [
       "\n",
       "Mascot | Year | Team | TeamYds | TeamAtt | TeamTD | TeamFmb | Abbv | Player | Age | ... | Conference | Division | Tm | W | L | PF | PA | PlayerYdsPerc | PlayerAttPerc | YearMascot | \n",
       "|---|---|---|---|---|---|---|---|---|---|---|---|---|---|---|---|---|---|---|---|---|---|---|---|---|\n",
       "| Bears                | 2016                 | Chicago Bears        | 1735                 | 380                  | 10                   | 26                   | CHI                  | Jordan Howard        | 22                   | ...                  | NFC                  | North                | Chicago Bears        |  3                   | 13                   | 279                  | 399                  | 0.7567723            | 0.6631579            | 2016 Bears           | \n",
       "| Bengals              | 2018                 | Cincinnati Bengals   | 1682                 | 359                  | 13                   | 11                   | CIN                  | Joe Mixon            | 22                   | ...                  | AFC                  | North                | Cincinnati Bengals   |  6                   | 10                   | 368                  | 455                  | 0.6944114            | 0.6601671            | 2018 Bengals         | \n",
       "| Bills                | 2017                 | Buffalo Bills        | 2017                 | 487                  | 12                   | 17                   | BUF                  | LeSean McCoy         | 29                   | ...                  | AFC                  | East                 | Buffalo Bills        |  9                   |  7                   | 302                  | 359                  | 0.5642043            | 0.5893224            | 2017 Bills           | \n",
       "| Buccaneers           | 2015                 | Tampa Bay Buccaneers | 2162                 | 455                  | 12                   | 26                   | TB                   | Doug Martin          | 26                   | ...                  | NFC                  | South                | Tampa Bay Buccaneers |  6                   | 10                   | 342                  | 417                  | 0.6484736            | 0.6329670            | 2015 Buccaneers      | \n",
       "| Chiefs               | 2017                 | Kansas City Chiefs   | 1903                 | 405                  | 12                   | 14                   | KC                   | Kareem Hunt          | 22                   | ...                  | AFC                  | West                 | Kansas City Chiefs   | 10                   |  6                   | 415                  | 339                  | 0.6973200            | 0.6716049            | 2017 Chiefs          | \n",
       "| Cowboys              | 2014                 | Dallas Cowboys       | 2354                 | 508                  | 16                   | 21                   | DAL                  | DeMarco Murray       | 26                   | ...                  | NFC                  | East                 | Dallas Cowboys       | 12                   |  4                   | 467                  | 352                  | 0.7837723            | 0.7716535            | 2014 Cowboys         | \n",
       "| Cowboys              | 2015                 | Dallas Cowboys       | 1890                 | 408                  |  8                   | 18                   | DAL                  | Darren McFadden      | 28                   | ...                  | NFC                  | East                 | Dallas Cowboys       |  4                   | 12                   | 275                  | 374                  | 0.5761905            | 0.5857843            | 2015 Cowboys         | \n",
       "| Cowboys              | 2016                 | Dallas Cowboys       | 2396                 | 499                  | 24                   | 22                   | DAL                  | Ezekiel Elliott      | 21                   | ...                  | NFC                  | East                 | Dallas Cowboys       | 13                   |  3                   | 421                  | 306                  | 0.6807179            | 0.6452906            | 2016 Cowboys         | \n",
       "| Cowboys              | 2018                 | Dallas Cowboys       | 1963                 | 439                  | 13                   | 23                   | DAL                  | Ezekiel Elliott      | 23                   | ...                  | NFC                  | East                 | Dallas Cowboys       | 10                   |  6                   | 339                  | 324                  | 0.7305145            | 0.6924829            | 2018 Cowboys         | \n",
       "| Dolphins             | 2016                 | Miami Dolphins       | 1824                 | 406                  | 14                   | 26                   | MIA                  | Jay Ajayi            | 23                   | ...                  | AFC                  | East                 | Miami Dolphins       | 10                   |  6                   | 363                  | 380                  | 0.6973684            | 0.6403941            | 2016 Dolphins        | \n",
       "| Eagles               | 2014                 | Philadelphia Eagles  | 1992                 | 474                  | 16                   | 25                   | PHI                  | LeSean McCoy         | 26                   | ...                  | NFC                  | East                 | Philadelphia Eagles  | 10                   |  6                   | 474                  | 400                  | 0.6621486            | 0.6582278            | 2014 Eagles          | \n",
       "| Giants               | 2018                 | New York Giants      | 1650                 | 354                  | 13                   | 16                   | NYG                  | Saquon Barkley       | 21                   | ...                  | NFC                  | East                 | New York Giants      |  5                   | 11                   | 369                  | 412                  | 0.7921212            | 0.7372881            | 2018 Giants          | \n",
       "| Jets                 | 2015                 | New York Jets        | 1868                 | 448                  | 11                   | 17                   | NYJ                  | Chris Ivory          | 27                   | ...                  | AFC                  | East                 | New York Jets        | 10                   |  6                   | 387                  | 314                  | 0.5728051            | 0.5513393            | 2015 Jets            | \n",
       "| Rams                 | 2015                 | St. Louis Rams       | 1956                 | 429                  | 16                   | 22                   | STL                  | Todd Gurley          | 21                   | ...                  | NFC                  | West                 | St. Louis Rams       |  7                   |  9                   | 280                  | 330                  | 0.5654397            | 0.5337995            | 2015 Rams            | \n",
       "| Rams                 | 2017                 | Los Angeles Rams     | 1953                 | 454                  | 17                   | 29                   | LAR                  | Todd Gurley          | 23                   | ...                  | NFC                  | West                 | Los Angeles Rams     | 11                   |  5                   | 478                  | 329                  | 0.6682028            | 0.6145374            | 2017 Rams            | \n",
       "| Rams                 | 2018                 | Los Angeles Rams     | 2231                 | 459                  | 23                   | 17                   | LAR                  | Todd Gurley          | 24                   | ...                  | NFC                  | West                 | Los Angeles Rams     | 13                   |  3                   | 527                  | 384                  | 0.5607351            | 0.5577342            | 2018 Rams            | \n",
       "| Ravens               | 2014                 | Baltimore Ravens     | 2019                 | 448                  | 16                   | 16                   | BAL                  | Justin Forsett       | 29                   | ...                  | AFC                  | North                | Baltimore Ravens     | 10                   |  6                   | 409                  | 302                  | 0.6270431            | 0.5245536            | 2014 Ravens          | \n",
       "| Saints               | 2017                 | New Orleans Saints   | 2070                 | 444                  | 23                   | 19                   | NO                   | Mark Ingram          | 28                   | ...                  | NFC                  | South                | New Orleans Saints   | 11                   |  5                   | 448                  | 326                  | 0.5429952            | 0.5180180            | 2017 Saints          | \n",
       "| Seahawks             | 2014                 | Seattle Seahawks     | 2762                 | 525                  | 20                   | 23                   | SEA                  | Marshawn Lynch       | 28                   | ...                  | NFC                  | West                 | Seattle Seahawks     | 12                   |  4                   | 394                  | 254                  | 0.4728458            | 0.5333333            | 2014 Seahawks        | \n",
       "| Seahawks             | 2018                 | Seattle Seahawks     | 2560                 | 534                  | 15                   | 18                   | SEA                  | Chris Carson         | 24                   | ...                  | NFC                  | West                 | Seattle Seahawks     | 10                   |  6                   | 428                  | 347                  | 0.4496094            | 0.4625468            | 2018 Seahawks        | \n",
       "| Steelers             | 2014                 | Pittsburgh Steelers  | 1752                 | 423                  | 10                   | 16                   | PIT                  | Le'Veon Bell         | 22                   | ...                  | AFC                  | North                | Pittsburgh Steelers  | 11                   |  5                   | 436                  | 368                  | 0.7768265            | 0.6855792            | 2014 Steelers        | \n",
       "| Steelers             | 2016                 | Pittsburgh Steelers  | 1760                 | 409                  | 13                   | 15                   | PIT                  | Le'Veon Bell         | 24                   | ...                  | AFC                  | North                | Pittsburgh Steelers  | 11                   |  5                   | 399                  | 327                  | 0.7204545            | 0.6381418            | 2016 Steelers        | \n",
       "| Steelers             | 2017                 | Pittsburgh Steelers  | 1667                 | 437                  | 12                   | 15                   | PIT                  | Le'Veon Bell         | 25                   | ...                  | AFC                  | North                | Pittsburgh Steelers  | 13                   |  3                   | 406                  | 308                  | 0.7744451            | 0.7345538            | 2017 Steelers        | \n",
       "| Titans               | 2016                 | Tennessee Titans     | 2187                 | 476                  | 16                   | 16                   | TEN                  | DeMarco Murray       | 28                   | ...                  | AFC                  | South                | Tennessee Titans     |  9                   |  7                   | 381                  | 378                  | 0.5884774            | 0.6155462            | 2016 Titans          | \n",
       "| Vikings              | 2015                 | Minnesota Vikings    | 2211                 | 474                  | 18                   | 21                   | MIN                  | Adrian Peterson      | 30                   | ...                  | NFC                  | North                | Minnesota Vikings    | 11                   |  5                   | 365                  | 302                  | 0.6716418            | 0.6898734            | 2015 Vikings         | \n",
       "\n",
       "\n"
      ],
      "text/plain": [
       "   Mascot     Year Team                 TeamYds TeamAtt TeamTD TeamFmb Abbv\n",
       "1  Bears      2016 Chicago Bears        1735    380     10     26      CHI \n",
       "2  Bengals    2018 Cincinnati Bengals   1682    359     13     11      CIN \n",
       "3  Bills      2017 Buffalo Bills        2017    487     12     17      BUF \n",
       "4  Buccaneers 2015 Tampa Bay Buccaneers 2162    455     12     26      TB  \n",
       "5  Chiefs     2017 Kansas City Chiefs   1903    405     12     14      KC  \n",
       "6  Cowboys    2014 Dallas Cowboys       2354    508     16     21      DAL \n",
       "7  Cowboys    2015 Dallas Cowboys       1890    408      8     18      DAL \n",
       "8  Cowboys    2016 Dallas Cowboys       2396    499     24     22      DAL \n",
       "9  Cowboys    2018 Dallas Cowboys       1963    439     13     23      DAL \n",
       "10 Dolphins   2016 Miami Dolphins       1824    406     14     26      MIA \n",
       "11 Eagles     2014 Philadelphia Eagles  1992    474     16     25      PHI \n",
       "12 Giants     2018 New York Giants      1650    354     13     16      NYG \n",
       "13 Jets       2015 New York Jets        1868    448     11     17      NYJ \n",
       "14 Rams       2015 St. Louis Rams       1956    429     16     22      STL \n",
       "15 Rams       2017 Los Angeles Rams     1953    454     17     29      LAR \n",
       "16 Rams       2018 Los Angeles Rams     2231    459     23     17      LAR \n",
       "17 Ravens     2014 Baltimore Ravens     2019    448     16     16      BAL \n",
       "18 Saints     2017 New Orleans Saints   2070    444     23     19      NO  \n",
       "19 Seahawks   2014 Seattle Seahawks     2762    525     20     23      SEA \n",
       "20 Seahawks   2018 Seattle Seahawks     2560    534     15     18      SEA \n",
       "21 Steelers   2014 Pittsburgh Steelers  1752    423     10     16      PIT \n",
       "22 Steelers   2016 Pittsburgh Steelers  1760    409     13     15      PIT \n",
       "23 Steelers   2017 Pittsburgh Steelers  1667    437     12     15      PIT \n",
       "24 Titans     2016 Tennessee Titans     2187    476     16     16      TEN \n",
       "25 Vikings    2015 Minnesota Vikings    2211    474     18     21      MIN \n",
       "   Player          Age ... Conference Division Tm                   W  L  PF \n",
       "1  Jordan Howard   22  ... NFC        North    Chicago Bears         3 13 279\n",
       "2  Joe Mixon       22  ... AFC        North    Cincinnati Bengals    6 10 368\n",
       "3  LeSean McCoy    29  ... AFC        East     Buffalo Bills         9  7 302\n",
       "4  Doug Martin     26  ... NFC        South    Tampa Bay Buccaneers  6 10 342\n",
       "5  Kareem Hunt     22  ... AFC        West     Kansas City Chiefs   10  6 415\n",
       "6  DeMarco Murray  26  ... NFC        East     Dallas Cowboys       12  4 467\n",
       "7  Darren McFadden 28  ... NFC        East     Dallas Cowboys        4 12 275\n",
       "8  Ezekiel Elliott 21  ... NFC        East     Dallas Cowboys       13  3 421\n",
       "9  Ezekiel Elliott 23  ... NFC        East     Dallas Cowboys       10  6 339\n",
       "10 Jay Ajayi       23  ... AFC        East     Miami Dolphins       10  6 363\n",
       "11 LeSean McCoy    26  ... NFC        East     Philadelphia Eagles  10  6 474\n",
       "12 Saquon Barkley  21  ... NFC        East     New York Giants       5 11 369\n",
       "13 Chris Ivory     27  ... AFC        East     New York Jets        10  6 387\n",
       "14 Todd Gurley     21  ... NFC        West     St. Louis Rams        7  9 280\n",
       "15 Todd Gurley     23  ... NFC        West     Los Angeles Rams     11  5 478\n",
       "16 Todd Gurley     24  ... NFC        West     Los Angeles Rams     13  3 527\n",
       "17 Justin Forsett  29  ... AFC        North    Baltimore Ravens     10  6 409\n",
       "18 Mark Ingram     28  ... NFC        South    New Orleans Saints   11  5 448\n",
       "19 Marshawn Lynch  28  ... NFC        West     Seattle Seahawks     12  4 394\n",
       "20 Chris Carson    24  ... NFC        West     Seattle Seahawks     10  6 428\n",
       "21 Le'Veon Bell    22  ... AFC        North    Pittsburgh Steelers  11  5 436\n",
       "22 Le'Veon Bell    24  ... AFC        North    Pittsburgh Steelers  11  5 399\n",
       "23 Le'Veon Bell    25  ... AFC        North    Pittsburgh Steelers  13  3 406\n",
       "24 DeMarco Murray  28  ... AFC        South    Tennessee Titans      9  7 381\n",
       "25 Adrian Peterson 30  ... NFC        North    Minnesota Vikings    11  5 365\n",
       "   PA  PlayerYdsPerc PlayerAttPerc YearMascot     \n",
       "1  399 0.7567723     0.6631579     2016 Bears     \n",
       "2  455 0.6944114     0.6601671     2018 Bengals   \n",
       "3  359 0.5642043     0.5893224     2017 Bills     \n",
       "4  417 0.6484736     0.6329670     2015 Buccaneers\n",
       "5  339 0.6973200     0.6716049     2017 Chiefs    \n",
       "6  352 0.7837723     0.7716535     2014 Cowboys   \n",
       "7  374 0.5761905     0.5857843     2015 Cowboys   \n",
       "8  306 0.6807179     0.6452906     2016 Cowboys   \n",
       "9  324 0.7305145     0.6924829     2018 Cowboys   \n",
       "10 380 0.6973684     0.6403941     2016 Dolphins  \n",
       "11 400 0.6621486     0.6582278     2014 Eagles    \n",
       "12 412 0.7921212     0.7372881     2018 Giants    \n",
       "13 314 0.5728051     0.5513393     2015 Jets      \n",
       "14 330 0.5654397     0.5337995     2015 Rams      \n",
       "15 329 0.6682028     0.6145374     2017 Rams      \n",
       "16 384 0.5607351     0.5577342     2018 Rams      \n",
       "17 302 0.6270431     0.5245536     2014 Ravens    \n",
       "18 326 0.5429952     0.5180180     2017 Saints    \n",
       "19 254 0.4728458     0.5333333     2014 Seahawks  \n",
       "20 347 0.4496094     0.4625468     2018 Seahawks  \n",
       "21 368 0.7768265     0.6855792     2014 Steelers  \n",
       "22 327 0.7204545     0.6381418     2016 Steelers  \n",
       "23 308 0.7744451     0.7345538     2017 Steelers  \n",
       "24 378 0.5884774     0.6155462     2016 Titans    \n",
       "25 302 0.6716418     0.6898734     2015 Vikings   "
      ]
     },
     "metadata": {},
     "output_type": "display_data"
    }
   ],
   "source": [
    "rushing %>%\n",
    "group_by(Year) %>%\n",
    "top_n(5, PlayerYds)"
   ]
  },
  {
   "cell_type": "code",
   "execution_count": 39,
   "metadata": {},
   "outputs": [
    {
     "data": {},
     "metadata": {},
     "output_type": "display_data"
    },
    {
     "data": {
      "image/png": "[encoded data removed]",
      "text/plain": [
       "plot without title"
      ]
     },
     "metadata": {},
     "output_type": "display_data"
    }
   ],
   "source": [
    "rushing %>%\n",
    "ggplot(aes(x = PlayerYdsPerc, y = W)) +\n",
    "geom_point() +\n",
    "geom_smooth(method = 'lm') +\n",
    "geom_text_repel(data = subset(rushing, PlayerYdsPerc < .3),aes(label= YearMascot))"
   ]
  },
  {
   "cell_type": "code",
   "execution_count": 40,
   "metadata": {},
   "outputs": [
    {
     "data": {
      "text/html": [
       "<table>\n",
       "<thead><tr><th scope=col>Mascot</th><th scope=col>Year</th><th scope=col>Team</th><th scope=col>TeamYds</th><th scope=col>TeamAtt</th><th scope=col>TeamTD</th><th scope=col>TeamFmb</th><th scope=col>Abbv</th><th scope=col>Player</th><th scope=col>Age</th><th scope=col>...</th><th scope=col>Conference</th><th scope=col>Division</th><th scope=col>Tm</th><th scope=col>W</th><th scope=col>L</th><th scope=col>PF</th><th scope=col>PA</th><th scope=col>PlayerYdsPerc</th><th scope=col>PlayerAttPerc</th><th scope=col>YearMascot</th></tr></thead>\n",
       "<tbody>\n",
       "\t<tr><td>Seahawks        </td><td>2016            </td><td>Seattle Seahawks</td><td>1591            </td><td>403             </td><td>13              </td><td>22              </td><td>SEA             </td><td>Thomas Rawls    </td><td>23              </td><td>...             </td><td>NFC             </td><td>West            </td><td>Seattle Seahawks</td><td>10              </td><td>5               </td><td>354             </td><td>292             </td><td>0.2193589       </td><td>0.2704715       </td><td>2016 Seahawks   </td></tr>\n",
       "</tbody>\n",
       "</table>\n"
      ],
      "text/latex": [
       "\\begin{tabular}{r|llllllllllllllllllllllllll}\n",
       " Mascot & Year & Team & TeamYds & TeamAtt & TeamTD & TeamFmb & Abbv & Player & Age & ... & Conference & Division & Tm & W & L & PF & PA & PlayerYdsPerc & PlayerAttPerc & YearMascot\\\\\n",
       "\\hline\n",
       "\t Seahawks         & 2016             & Seattle Seahawks & 1591             & 403              & 13               & 22               & SEA              & Thomas Rawls     & 23               & ...              & NFC              & West             & Seattle Seahawks & 10               & 5                & 354              & 292              & 0.2193589        & 0.2704715        & 2016 Seahawks   \\\\\n",
       "\\end{tabular}\n"
      ],
      "text/markdown": [
       "\n",
       "Mascot | Year | Team | TeamYds | TeamAtt | TeamTD | TeamFmb | Abbv | Player | Age | ... | Conference | Division | Tm | W | L | PF | PA | PlayerYdsPerc | PlayerAttPerc | YearMascot | \n",
       "|---|\n",
       "| Seahawks         | 2016             | Seattle Seahawks | 1591             | 403              | 13               | 22               | SEA              | Thomas Rawls     | 23               | ...              | NFC              | West             | Seattle Seahawks | 10               | 5                | 354              | 292              | 0.2193589        | 0.2704715        | 2016 Seahawks    | \n",
       "\n",
       "\n"
      ],
      "text/plain": [
       "  Mascot   Year Team             TeamYds TeamAtt TeamTD TeamFmb Abbv\n",
       "1 Seahawks 2016 Seattle Seahawks 1591    403     13     22      SEA \n",
       "  Player       Age ... Conference Division Tm               W  L PF  PA \n",
       "1 Thomas Rawls 23  ... NFC        West     Seattle Seahawks 10 5 354 292\n",
       "  PlayerYdsPerc PlayerAttPerc YearMascot   \n",
       "1 0.2193589     0.2704715     2016 Seahawks"
      ]
     },
     "metadata": {},
     "output_type": "display_data"
    }
   ],
   "source": [
    "rushing %>%\n",
    "filter(Mascot == 'Seahawks' , Year == 2016)"
   ]
  }
 ],
 "metadata": {
  "kernelspec": {
   "display_name": "R",
   "language": "R",
   "name": "ir"
  },
  "language_info": {
   "codemirror_mode": "r",
   "file_extension": ".r",
   "mimetype": "text/x-r-source",
   "name": "R",
   "pygments_lexer": "r",
   "version": "3.5.1"
  }
 },
 "nbformat": 4,
 "nbformat_minor": 2
}
